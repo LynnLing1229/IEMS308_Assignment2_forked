{
 "cells": [
  {
   "cell_type": "code",
   "execution_count": 1,
   "metadata": {},
   "outputs": [],
   "source": [
    "import numpy as np \n",
    "import pandas as pd \n",
    "pd.set_option('display.float_format', lambda x: '%.2f' % x)\n",
    "import csv\n",
    "import copy \n",
    "\n",
    "import matplotlib.pyplot as plt\n",
    "%matplotlib inline\n",
    "\n",
    "from mlxtend.frequent_patterns import apriori\n",
    "from mlxtend.frequent_patterns import association_rules\n",
    "\n",
    "import random"
   ]
  },
  {
   "cell_type": "markdown",
   "metadata": {},
   "source": [
    "------"
   ]
  },
  {
   "cell_type": "markdown",
   "metadata": {},
   "source": [
    "# <u> 1. Data Preparing & Preprocessing</u>\n",
    "## <i> 1.1. Labeling Columns </i>\n",
    "### 1.1.1. TRNSACT\n",
    "All the lables of the columns are missing. Therefore, before any other steps, I started with giving labels to the data tables by taking a look at data schema and column description. I do not recommend running this part, because it will take a long time. "
   ]
  },
  {
   "cell_type": "code",
   "execution_count": null,
   "metadata": {},
   "outputs": [],
   "source": [
    "trnsact = pd.read_csv(\"data/Dillards POS/trnsact.csv\", header = None, usecols = range(0, 13),\n",
    "                  names = ['SKU','STORE', 'REGISTER', 'TRANNUM', 'SEQ', 'SALEDATE','STYPE',\n",
    "                           'QUANTITY', 'ORGPRICE', 'SPRICE', 'AMT', 'INTERID', 'MIC'])\n",
    "\n",
    "# Creating trnsact_identifier which would be used to identify unique transactions\n",
    "print(\"Step 1\")\n",
    "trnsact[\"trnsact_identifier\"] = trnsact[\"STORE\"].astype(str) + trnsact[\"REGISTER\"].astype(str)\n",
    "print(\"Step 2\")\n",
    "trnsact[\"trnsact_identifier\"] = trnsact[\"trnsact_identifier\"].astype(str) + trnsact[\"TRANNUM\"].astype(str)\n",
    "print(\"Step 3\")\n",
    "trnsact[\"trnsact_identifier\"] = trnsact[\"SALEDATE\"].astype(str) + trnsact[\"trnsact_identifier\"].astype(str)\n",
    "\n",
    "trnsact.head()"
   ]
  },
  {
   "cell_type": "code",
   "execution_count": null,
   "metadata": {},
   "outputs": [],
   "source": [
    "trnsact.to_csv(\"data/Dillards POS/trnsact_labelled.csv\", index = False)"
   ]
  },
  {
   "cell_type": "markdown",
   "metadata": {},
   "source": [
    "### 1.1.2. STRINFO"
   ]
  },
  {
   "cell_type": "code",
   "execution_count": null,
   "metadata": {},
   "outputs": [],
   "source": [
    "strinfo = pd.read_csv(\"data/Dillards POS/strinfo.csv\", header = None, usecols=range(0, 4),\n",
    "                  names = [\"STORE\", \"CITY\", \"STATE\", \"ZIP\"])\n",
    "strinfo.head()"
   ]
  },
  {
   "cell_type": "code",
   "execution_count": null,
   "metadata": {},
   "outputs": [],
   "source": [
    "strinfo.to_csv(\"data/Dillards POS/strinfo_labelled.csv\", index = False)"
   ]
  },
  {
   "cell_type": "markdown",
   "metadata": {},
   "source": [
    "### 1.1.3. SKSTINFO"
   ]
  },
  {
   "cell_type": "code",
   "execution_count": null,
   "metadata": {},
   "outputs": [],
   "source": [
    "skstinfo = pd.read_csv(\"data/Dillards POS/skstinfo.csv\", header = None, usecols=range(0, 4),\n",
    "                  names = [\"SKU\", \"STORE\", \"COST\", \"RETAIL\"])\n",
    "skstinfo.head()"
   ]
  },
  {
   "cell_type": "code",
   "execution_count": null,
   "metadata": {},
   "outputs": [],
   "source": [
    "skstinfo.to_csv(\"data/Dillards POS/skstinfo_labelled.csv\", index = False)"
   ]
  },
  {
   "cell_type": "markdown",
   "metadata": {},
   "source": [
    "### 1.1.4. DEPTINFO"
   ]
  },
  {
   "cell_type": "code",
   "execution_count": null,
   "metadata": {},
   "outputs": [],
   "source": [
    "deptinfo = pd.read_csv(\"data/Dillards POS/deptinfo.csv\", header = None, usecols=range(0, 2),\n",
    "                  names = [\"DEPT\", \"DEPTDESC\"])\n",
    "deptinfo.head()"
   ]
  },
  {
   "cell_type": "code",
   "execution_count": null,
   "metadata": {},
   "outputs": [],
   "source": [
    "deptinfo.to_csv(\"data/Dillards POS/deptinfo_labelled.csv\", index = False)"
   ]
  },
  {
   "cell_type": "markdown",
   "metadata": {},
   "source": [
    "### 1.1.5. SKUINFO"
   ]
  },
  {
   "cell_type": "code",
   "execution_count": null,
   "metadata": {},
   "outputs": [],
   "source": [
    "skuinfo = pd.read_csv(\"data/Dillards POS/skuinfo.csv\", header = None, usecols=range(0, 10),\n",
    "                  names = [\"SKU\", \"DEPT\", \"CLASSID\", \"UPC\", \"STYLE\", \"COLOR\", \"SIZE\", \"PACKSIZE\", \"VENDOR\", \"BRAND\"])\n",
    "skuinfo.head()"
   ]
  },
  {
   "cell_type": "code",
   "execution_count": null,
   "metadata": {},
   "outputs": [],
   "source": [
    "skuinfo.to_csv(\"data/Dillards POS/skuinfo_labelled.csv\", index = False)"
   ]
  },
  {
   "cell_type": "markdown",
   "metadata": {},
   "source": [
    "## <i> 1.2. Understanding the Structure of Data </i>\n",
    "To better understand the data I received, I scrutinized the structure of the data (checking the shape, missing values, distribution of values in each column, and unique values of each column)"
   ]
  },
  {
   "cell_type": "code",
   "execution_count": 2,
   "metadata": {},
   "outputs": [],
   "source": [
    "def structure_checker(data): \n",
    "    print(\"What is the shape of the data?\")\n",
    "    print(data.shape)\n",
    "    print(\"========\")\n",
    "    print(\"Is there any missing data?\")\n",
    "    print(data.isnull().sum())\n",
    "    print(\"========\")    \n",
    "    print(\"What is the distribution of data?\")\n",
    "    print(data.describe())\n",
    "    print(\"========\")\n",
    "    print(\"What is number of unique values of each column of data?\")\n",
    "    for col in data.columns:\n",
    "        print(\"Number of unique values of \" + col + \" column: \" + str(data[col].nunique()))"
   ]
  },
  {
   "cell_type": "code",
   "execution_count": 3,
   "metadata": {},
   "outputs": [
    {
     "name": "stdout",
     "output_type": "stream",
     "text": [
      "What is the shape of the data?\n",
      "(120916896, 14)\n",
      "========\n",
      "Is there any missing data?\n",
      "SKU                   0\n",
      "STORE                 0\n",
      "REGISTER              0\n",
      "TRANNUM               0\n",
      "SEQ                   0\n",
      "SALEDATE              0\n",
      "STYPE                 0\n",
      "QUANTITY              0\n",
      "ORGPRICE              0\n",
      "SPRICE                0\n",
      "AMT                   0\n",
      "INTERID               0\n",
      "MIC                   0\n",
      "trnsact_identifier    0\n",
      "dtype: int64\n",
      "========\n",
      "What is the distribution of data?\n",
      "               SKU        STORE     REGISTER      TRANNUM          SEQ  \\\n",
      "count 120916896.00 120916896.00 120916896.00 120916896.00 120916896.00   \n",
      "mean    4973132.07      4441.21       400.49      3339.48 190261678.15   \n",
      "std     2837118.90      2846.72       253.15      5344.72 300768842.13   \n",
      "min           3.00       102.00         1.00         1.00         0.00   \n",
      "25%     2628084.00      2103.00       190.00      1000.00         0.00   \n",
      "50%     4858011.00      4103.00       370.00      2200.00         0.00   \n",
      "75%     7393869.00      7102.00       580.00      4100.00 342603083.00   \n",
      "max     9999997.00      9909.00       993.00     99909.00 999910012.00   \n",
      "\n",
      "          QUANTITY     ORGPRICE       SPRICE          AMT      INTERID  \\\n",
      "count 120916896.00 120916896.00 120916896.00 120916896.00 120916896.00   \n",
      "mean          1.00        36.78        24.62        24.62 499409460.91   \n",
      "std           0.02        40.32        27.22        27.22 288492575.94   \n",
      "min           1.00         0.00         0.00         0.00         1.00   \n",
      "25%           1.00        16.00         9.88         9.88 249500207.00   \n",
      "50%           1.00        28.00        18.00        18.00 499000030.00   \n",
      "75%           1.00        48.00        31.00        31.00 749400044.00   \n",
      "max          90.00      6017.00      6017.00      6017.00 999900395.00   \n",
      "\n",
      "               MIC  \n",
      "count 120916896.00  \n",
      "mean        453.17  \n",
      "std         279.86  \n",
      "min           0.00  \n",
      "25%         222.00  \n",
      "50%         400.00  \n",
      "75%         680.00  \n",
      "max         999.00  \n",
      "========\n",
      "What is number of unique values of each column of data?\n",
      "Number of unique values of SKU column: 714499\n",
      "Number of unique values of STORE column: 332\n",
      "Number of unique values of REGISTER column: 300\n",
      "Number of unique values of TRANNUM column: 5804\n",
      "Number of unique values of SEQ column: 6466180\n",
      "Number of unique values of SALEDATE column: 389\n",
      "Number of unique values of STYPE column: 2\n",
      "Number of unique values of QUANTITY column: 8\n",
      "Number of unique values of ORGPRICE column: 1183\n",
      "Number of unique values of SPRICE column: 10703\n",
      "Number of unique values of AMT column: 10703\n",
      "Number of unique values of INTERID column: 3451323\n",
      "Number of unique values of MIC column: 882\n",
      "Number of unique values of trnsact_identifier column: 64738527\n"
     ]
    }
   ],
   "source": [
    "trnsact = pd.read_csv(\"data/Dillards POS/trnsact_labelled.csv\")\n",
    "structure_checker(trnsact)"
   ]
  },
  {
   "cell_type": "code",
   "execution_count": 4,
   "metadata": {},
   "outputs": [
    {
     "name": "stdout",
     "output_type": "stream",
     "text": [
      "What is the shape of the data?\n",
      "(453, 4)\n",
      "========\n",
      "Is there any missing data?\n",
      "STORE    0\n",
      "CITY     0\n",
      "STATE    0\n",
      "ZIP      0\n",
      "dtype: int64\n",
      "========\n",
      "What is the distribution of data?\n",
      "        STORE      ZIP\n",
      "count  453.00   453.00\n",
      "mean  4616.92 58248.19\n",
      "std   2962.45 22025.12\n",
      "min      2.00  7071.00\n",
      "25%   2109.00 35630.00\n",
      "50%   4304.00 66062.00\n",
      "75%   7304.00 76904.00\n",
      "max   9909.00 99999.00\n",
      "========\n",
      "What is number of unique values of each column of data?\n",
      "Number of unique values of STORE column: 453\n",
      "Number of unique values of CITY column: 299\n",
      "Number of unique values of STATE column: 31\n",
      "Number of unique values of ZIP column: 391\n"
     ]
    }
   ],
   "source": [
    "strinfo = pd.read_csv(\"data/Dillards POS/strinfo_labelled.csv\")\n",
    "structure_checker(strinfo)"
   ]
  },
  {
   "cell_type": "code",
   "execution_count": 5,
   "metadata": {},
   "outputs": [
    {
     "name": "stdout",
     "output_type": "stream",
     "text": [
      "What is the shape of the data?\n",
      "(39230146, 4)\n",
      "========\n",
      "Is there any missing data?\n",
      "SKU       0\n",
      "STORE     0\n",
      "COST      0\n",
      "RETAIL    0\n",
      "dtype: int64\n",
      "========\n",
      "What is the distribution of data?\n",
      "              SKU       STORE        COST      RETAIL\n",
      "count 39230146.00 39230146.00 39230146.00 39230146.00\n",
      "mean   4964063.22     4506.67       24.16       43.33\n",
      "std    2871948.38     2803.19       40.57       83.92\n",
      "min          3.00      100.00        0.00        0.00\n",
      "25%    2500002.00     2203.00        9.00       12.99\n",
      "50%    4921672.00     4207.00       15.36       24.50\n",
      "75%    7441916.00     7007.00       26.76       45.00\n",
      "max    9999997.00     9909.00     2700.00     6017.00\n",
      "========\n",
      "What is number of unique values of each column of data?\n",
      "Number of unique values of SKU column: 760212\n",
      "Number of unique values of STORE column: 357\n",
      "Number of unique values of COST column: 6137\n",
      "Number of unique values of RETAIL column: 5240\n"
     ]
    }
   ],
   "source": [
    "skstinfo = pd.read_csv(\"data/Dillards POS/skstinfo_labelled.csv\")\n",
    "structure_checker(skstinfo)"
   ]
  },
  {
   "cell_type": "code",
   "execution_count": 6,
   "metadata": {},
   "outputs": [
    {
     "name": "stdout",
     "output_type": "stream",
     "text": [
      "What is the shape of the data?\n",
      "(60, 2)\n",
      "========\n",
      "Is there any missing data?\n",
      "DEPT        0\n",
      "DEPTDESC    0\n",
      "dtype: int64\n",
      "========\n",
      "What is the distribution of data?\n",
      "         DEPT\n",
      "count   60.00\n",
      "mean  5001.50\n",
      "std   2486.54\n",
      "min    800.00\n",
      "25%   3101.50\n",
      "50%   5152.50\n",
      "75%   7102.50\n",
      "max   9801.00\n",
      "========\n",
      "What is number of unique values of each column of data?\n",
      "Number of unique values of DEPT column: 60\n",
      "Number of unique values of DEPTDESC column: 60\n"
     ]
    }
   ],
   "source": [
    "deptinfo = pd.read_csv(\"data/Dillards POS/deptinfo_labelled.csv\")\n",
    "structure_checker(deptinfo)"
   ]
  },
  {
   "cell_type": "code",
   "execution_count": 7,
   "metadata": {},
   "outputs": [
    {
     "name": "stderr",
     "output_type": "stream",
     "text": [
      "/Users/junhwalee/opt/anaconda3/lib/python3.7/site-packages/IPython/core/interactiveshell.py:3058: DtypeWarning: Columns (7,8) have mixed types. Specify dtype option on import or set low_memory=False.\n",
      "  interactivity=interactivity, compiler=compiler, result=result)\n"
     ]
    },
    {
     "name": "stdout",
     "output_type": "stream",
     "text": [
      "What is the shape of the data?\n",
      "(1564178, 10)\n",
      "========\n",
      "Is there any missing data?\n",
      "SKU         0\n",
      "DEPT        0\n",
      "CLASSID     0\n",
      "UPC         0\n",
      "STYLE       0\n",
      "COLOR       1\n",
      "SIZE        0\n",
      "PACKSIZE    0\n",
      "VENDOR      0\n",
      "BRAND       0\n",
      "dtype: int64\n",
      "========\n",
      "What is the distribution of data?\n",
      "             SKU       DEPT             UPC\n",
      "count 1564178.00 1564178.00      1564178.00\n",
      "mean  4997726.87    5269.14 400004807194.72\n",
      "std   2882796.91    2178.88      3252274.42\n",
      "min         3.00     800.00 400000000612.00\n",
      "25%   2507545.25    3701.00 400001727369.50\n",
      "50%   4992405.50    5301.00 400004302353.50\n",
      "75%   7500381.25    7102.00 400007877659.75\n",
      "max   9999997.00    9801.00 400009999998.00\n",
      "========\n",
      "What is number of unique values of each column of data?\n",
      "Number of unique values of SKU column: 1564178\n",
      "Number of unique values of DEPT column: 60\n",
      "Number of unique values of CLASSID column: 1055\n",
      "Number of unique values of UPC column: 1564178\n",
      "Number of unique values of STYLE column: 316782\n",
      "Number of unique values of COLOR column: 71573\n",
      "Number of unique values of SIZE column: 9829\n",
      "Number of unique values of PACKSIZE column: 103\n",
      "Number of unique values of VENDOR column: 4183\n",
      "Number of unique values of BRAND column: 1960\n"
     ]
    }
   ],
   "source": [
    "skuinfo = pd.read_csv(\"data/Dillards POS/skuinfo_labelled.csv\")\n",
    "structure_checker(skuinfo)"
   ]
  },
  {
   "cell_type": "markdown",
   "metadata": {},
   "source": [
    "## <i> 1.3. Filtering Data </i>\n",
    "To handle the realistic computation issues and to mitigate the bias caused by taking all STOREs with different sizes all together, filtering has been done to choose specific SKUs and STOREs for the analysis. Check the report for the rationale for each filtering step."
   ]
  },
  {
   "cell_type": "code",
   "execution_count": null,
   "metadata": {},
   "outputs": [],
   "source": [
    "trnsact = pd.read_csv(\"data/Dillards POS/trnsact_labelled.csv\")\n",
    "trnsact.shape"
   ]
  },
  {
   "cell_type": "markdown",
   "metadata": {},
   "source": [
    "### 1.3.1. STYPE Selection"
   ]
  },
  {
   "cell_type": "code",
   "execution_count": 8,
   "metadata": {},
   "outputs": [
    {
     "data": {
      "text/html": [
       "<div>\n",
       "<style scoped>\n",
       "    .dataframe tbody tr th:only-of-type {\n",
       "        vertical-align: middle;\n",
       "    }\n",
       "\n",
       "    .dataframe tbody tr th {\n",
       "        vertical-align: top;\n",
       "    }\n",
       "\n",
       "    .dataframe thead th {\n",
       "        text-align: right;\n",
       "    }\n",
       "</style>\n",
       "<table border=\"1\" class=\"dataframe\">\n",
       "  <thead>\n",
       "    <tr style=\"text-align: right;\">\n",
       "      <th></th>\n",
       "      <th>SKU</th>\n",
       "      <th>P Count</th>\n",
       "    </tr>\n",
       "  </thead>\n",
       "  <tbody>\n",
       "    <tr>\n",
       "      <td>0</td>\n",
       "      <td>3</td>\n",
       "      <td>32</td>\n",
       "    </tr>\n",
       "    <tr>\n",
       "      <td>1</td>\n",
       "      <td>4</td>\n",
       "      <td>26</td>\n",
       "    </tr>\n",
       "    <tr>\n",
       "      <td>2</td>\n",
       "      <td>5</td>\n",
       "      <td>20</td>\n",
       "    </tr>\n",
       "    <tr>\n",
       "      <td>3</td>\n",
       "      <td>8</td>\n",
       "      <td>6</td>\n",
       "    </tr>\n",
       "    <tr>\n",
       "      <td>4</td>\n",
       "      <td>20</td>\n",
       "      <td>1</td>\n",
       "    </tr>\n",
       "  </tbody>\n",
       "</table>\n",
       "</div>"
      ],
      "text/plain": [
       "   SKU  P Count\n",
       "0    3       32\n",
       "1    4       26\n",
       "2    5       20\n",
       "3    8        6\n",
       "4   20        1"
      ]
     },
     "execution_count": 8,
     "metadata": {},
     "output_type": "execute_result"
    }
   ],
   "source": [
    "Pcount = pd.DataFrame(trnsact[trnsact[\"STYPE\"] == \"P\"].groupby([\"SKU\"])[\"QUANTITY\"].agg('sum')).reset_index()\n",
    "Pcount.columns = [\"SKU\", \"P Count\"]\n",
    "Pcount.head()"
   ]
  },
  {
   "cell_type": "code",
   "execution_count": 9,
   "metadata": {},
   "outputs": [
    {
     "data": {
      "text/html": [
       "<div>\n",
       "<style scoped>\n",
       "    .dataframe tbody tr th:only-of-type {\n",
       "        vertical-align: middle;\n",
       "    }\n",
       "\n",
       "    .dataframe tbody tr th {\n",
       "        vertical-align: top;\n",
       "    }\n",
       "\n",
       "    .dataframe thead th {\n",
       "        text-align: right;\n",
       "    }\n",
       "</style>\n",
       "<table border=\"1\" class=\"dataframe\">\n",
       "  <thead>\n",
       "    <tr style=\"text-align: right;\">\n",
       "      <th></th>\n",
       "      <th>SKU</th>\n",
       "      <th>R Count</th>\n",
       "    </tr>\n",
       "  </thead>\n",
       "  <tbody>\n",
       "    <tr>\n",
       "      <td>0</td>\n",
       "      <td>3</td>\n",
       "      <td>8</td>\n",
       "    </tr>\n",
       "    <tr>\n",
       "      <td>1</td>\n",
       "      <td>4</td>\n",
       "      <td>3</td>\n",
       "    </tr>\n",
       "    <tr>\n",
       "      <td>2</td>\n",
       "      <td>5</td>\n",
       "      <td>2</td>\n",
       "    </tr>\n",
       "    <tr>\n",
       "      <td>3</td>\n",
       "      <td>8</td>\n",
       "      <td>1</td>\n",
       "    </tr>\n",
       "    <tr>\n",
       "      <td>4</td>\n",
       "      <td>23</td>\n",
       "      <td>1</td>\n",
       "    </tr>\n",
       "  </tbody>\n",
       "</table>\n",
       "</div>"
      ],
      "text/plain": [
       "   SKU  R Count\n",
       "0    3        8\n",
       "1    4        3\n",
       "2    5        2\n",
       "3    8        1\n",
       "4   23        1"
      ]
     },
     "execution_count": 9,
     "metadata": {},
     "output_type": "execute_result"
    }
   ],
   "source": [
    "Rcount = pd.DataFrame(trnsact[trnsact[\"STYPE\"] == \"R\"].groupby([\"SKU\"])[\"QUANTITY\"].agg('sum')).reset_index()\n",
    "Rcount.columns = [\"SKU\", \"R Count\"]\n",
    "Rcount.head()"
   ]
  },
  {
   "cell_type": "code",
   "execution_count": 10,
   "metadata": {},
   "outputs": [
    {
     "data": {
      "text/html": [
       "<div>\n",
       "<style scoped>\n",
       "    .dataframe tbody tr th:only-of-type {\n",
       "        vertical-align: middle;\n",
       "    }\n",
       "\n",
       "    .dataframe tbody tr th {\n",
       "        vertical-align: top;\n",
       "    }\n",
       "\n",
       "    .dataframe thead th {\n",
       "        text-align: right;\n",
       "    }\n",
       "</style>\n",
       "<table border=\"1\" class=\"dataframe\">\n",
       "  <thead>\n",
       "    <tr style=\"text-align: right;\">\n",
       "      <th></th>\n",
       "      <th>SKU</th>\n",
       "      <th>P Count</th>\n",
       "      <th>R Count</th>\n",
       "      <th>perc</th>\n",
       "    </tr>\n",
       "  </thead>\n",
       "  <tbody>\n",
       "    <tr>\n",
       "      <td>0</td>\n",
       "      <td>3</td>\n",
       "      <td>32</td>\n",
       "      <td>8.00</td>\n",
       "      <td>25.00</td>\n",
       "    </tr>\n",
       "    <tr>\n",
       "      <td>1</td>\n",
       "      <td>4</td>\n",
       "      <td>26</td>\n",
       "      <td>3.00</td>\n",
       "      <td>11.54</td>\n",
       "    </tr>\n",
       "    <tr>\n",
       "      <td>2</td>\n",
       "      <td>5</td>\n",
       "      <td>20</td>\n",
       "      <td>2.00</td>\n",
       "      <td>10.00</td>\n",
       "    </tr>\n",
       "    <tr>\n",
       "      <td>3</td>\n",
       "      <td>8</td>\n",
       "      <td>6</td>\n",
       "      <td>1.00</td>\n",
       "      <td>16.67</td>\n",
       "    </tr>\n",
       "    <tr>\n",
       "      <td>4</td>\n",
       "      <td>20</td>\n",
       "      <td>1</td>\n",
       "      <td>0.00</td>\n",
       "      <td>0.00</td>\n",
       "    </tr>\n",
       "    <tr>\n",
       "      <td>...</td>\n",
       "      <td>...</td>\n",
       "      <td>...</td>\n",
       "      <td>...</td>\n",
       "      <td>...</td>\n",
       "    </tr>\n",
       "    <tr>\n",
       "      <td>713167</td>\n",
       "      <td>9999967</td>\n",
       "      <td>4</td>\n",
       "      <td>0.00</td>\n",
       "      <td>0.00</td>\n",
       "    </tr>\n",
       "    <tr>\n",
       "      <td>713168</td>\n",
       "      <td>9999970</td>\n",
       "      <td>6</td>\n",
       "      <td>2.00</td>\n",
       "      <td>33.33</td>\n",
       "    </tr>\n",
       "    <tr>\n",
       "      <td>713169</td>\n",
       "      <td>9999974</td>\n",
       "      <td>46</td>\n",
       "      <td>7.00</td>\n",
       "      <td>15.22</td>\n",
       "    </tr>\n",
       "    <tr>\n",
       "      <td>713170</td>\n",
       "      <td>9999992</td>\n",
       "      <td>8</td>\n",
       "      <td>0.00</td>\n",
       "      <td>0.00</td>\n",
       "    </tr>\n",
       "    <tr>\n",
       "      <td>713171</td>\n",
       "      <td>9999997</td>\n",
       "      <td>11</td>\n",
       "      <td>2.00</td>\n",
       "      <td>18.18</td>\n",
       "    </tr>\n",
       "  </tbody>\n",
       "</table>\n",
       "<p>713172 rows × 4 columns</p>\n",
       "</div>"
      ],
      "text/plain": [
       "            SKU  P Count  R Count  perc\n",
       "0             3       32     8.00 25.00\n",
       "1             4       26     3.00 11.54\n",
       "2             5       20     2.00 10.00\n",
       "3             8        6     1.00 16.67\n",
       "4            20        1     0.00  0.00\n",
       "...         ...      ...      ...   ...\n",
       "713167  9999967        4     0.00  0.00\n",
       "713168  9999970        6     2.00 33.33\n",
       "713169  9999974       46     7.00 15.22\n",
       "713170  9999992        8     0.00  0.00\n",
       "713171  9999997       11     2.00 18.18\n",
       "\n",
       "[713172 rows x 4 columns]"
      ]
     },
     "execution_count": 10,
     "metadata": {},
     "output_type": "execute_result"
    }
   ],
   "source": [
    "merged = Pcount.merge(Rcount, how = \"left\")\n",
    "merged.fillna(0, inplace = True)\n",
    "merged[\"perc\"] = 100.0*merged[\"R Count\"]/merged[\"P Count\"]\n",
    "merged"
   ]
  },
  {
   "cell_type": "code",
   "execution_count": 11,
   "metadata": {},
   "outputs": [
    {
     "name": "stdout",
     "output_type": "stream",
     "text": [
      "Percentage of SKUs with no return transaction: 24.51%\n",
      "Max(Return Quantity/Purchase Quantity Percentage): 1000.00%\n"
     ]
    }
   ],
   "source": [
    "print(\"Percentage of SKUs with no return transaction: %3.2f%%\" % (100.0*merged[merged[\"R Count\"] == 0.00].shape[0]/merged.shape[0]))\n",
    "print(\"Max(Return Quantity/Purchase Quantity Percentage): %3.2f%%\" % max(merged[merged[\"R Count\"] != 0.00][\"perc\"]))"
   ]
  },
  {
   "cell_type": "code",
   "execution_count": 12,
   "metadata": {},
   "outputs": [
    {
     "data": {
      "image/png": "[encoded data removed]",
      "text/plain": [
       "<Figure size 432x288 with 1 Axes>"
      ]
     },
     "metadata": {
      "needs_background": "light"
     },
     "output_type": "display_data"
    }
   ],
   "source": [
    "merged[merged[\"R Count\"] != 0.00][\"perc\"].hist(bins =range(0, int(max(merged[merged[\"R Count\"] != 0.00][\"perc\"]))))\n",
    "plt.title(\"Distribution of return rate \")\n",
    "plt.xlabel(\"return rate (%)\")\n",
    "plt.ylabel(\"number of SKUs\")\n",
    "plt.savefig('img/return rate.png')\n",
    "plt.show()"
   ]
  },
  {
   "cell_type": "code",
   "execution_count": 13,
   "metadata": {},
   "outputs": [
    {
     "data": {
      "image/png": "[encoded data removed]",
      "text/plain": [
       "<Figure size 432x288 with 1 Axes>"
      ]
     },
     "metadata": {
      "needs_background": "light"
     },
     "output_type": "display_data"
    }
   ],
   "source": [
    "merged[merged[\"R Count\"] != 0.00][\"perc\"].hist(bins = range(0, 100))\n",
    "plt.title(\"Distribution of return rate (only 0% to 100%)\")\n",
    "plt.xlabel(\"return rate (%)\")\n",
    "plt.ylabel(\"number of SKUs\")\n",
    "plt.savefig('img/return rate  (only 0% to 100%).png')\n",
    "plt.show()"
   ]
  },
  {
   "cell_type": "code",
   "execution_count": 14,
   "metadata": {},
   "outputs": [
    {
     "data": {
      "text/plain": [
       "(616361, 4)"
      ]
     },
     "execution_count": 14,
     "metadata": {},
     "output_type": "execute_result"
    }
   ],
   "source": [
    "low_return_SKU = merged[merged[\"perc\"] < 20.0]\n",
    "low_return_SKU.shape"
   ]
  },
  {
   "cell_type": "code",
   "execution_count": 15,
   "metadata": {},
   "outputs": [
    {
     "data": {
      "text/plain": [
       "(107472418, 14)"
      ]
     },
     "execution_count": 15,
     "metadata": {},
     "output_type": "execute_result"
    }
   ],
   "source": [
    "filtered_trnsact = trnsact[trnsact[\"SKU\"].isin(list(low_return_SKU[\"SKU\"].unique()))]\n",
    "filtered_trnsact = filtered_trnsact[filtered_trnsact[\"STYPE\"] == \"P\"]\n",
    "filtered_trnsact.shape"
   ]
  },
  {
   "cell_type": "code",
   "execution_count": 16,
   "metadata": {},
   "outputs": [],
   "source": [
    "filtered_trnsact.to_csv(\"data/Dillards POS/trnsact_labelled_filtered0.csv\", index = False)"
   ]
  },
  {
   "cell_type": "markdown",
   "metadata": {},
   "source": [
    "### 1.3.2. SALEDATE Selection"
   ]
  },
  {
   "cell_type": "code",
   "execution_count": null,
   "metadata": {},
   "outputs": [],
   "source": [
    "filtered_trnsact = pd.read_csv(\"data/Dillards POS/trnsact_labelled_filtered0.csv\")"
   ]
  },
  {
   "cell_type": "code",
   "execution_count": 17,
   "metadata": {},
   "outputs": [
    {
     "data": {
      "text/html": [
       "<div>\n",
       "<style scoped>\n",
       "    .dataframe tbody tr th:only-of-type {\n",
       "        vertical-align: middle;\n",
       "    }\n",
       "\n",
       "    .dataframe tbody tr th {\n",
       "        vertical-align: top;\n",
       "    }\n",
       "\n",
       "    .dataframe thead th {\n",
       "        text-align: right;\n",
       "    }\n",
       "</style>\n",
       "<table border=\"1\" class=\"dataframe\">\n",
       "  <thead>\n",
       "    <tr style=\"text-align: right;\">\n",
       "      <th></th>\n",
       "      <th>trnsact_identifier</th>\n",
       "      <th>number of items</th>\n",
       "    </tr>\n",
       "  </thead>\n",
       "  <tbody>\n",
       "    <tr>\n",
       "      <td>0</td>\n",
       "      <td>100210010002004-08-01</td>\n",
       "      <td>2</td>\n",
       "    </tr>\n",
       "    <tr>\n",
       "      <td>1</td>\n",
       "      <td>100210010002004-08-04</td>\n",
       "      <td>2</td>\n",
       "    </tr>\n",
       "    <tr>\n",
       "      <td>2</td>\n",
       "      <td>100210010002004-08-26</td>\n",
       "      <td>2</td>\n",
       "    </tr>\n",
       "    <tr>\n",
       "      <td>3</td>\n",
       "      <td>100210010002004-08-27</td>\n",
       "      <td>1</td>\n",
       "    </tr>\n",
       "    <tr>\n",
       "      <td>4</td>\n",
       "      <td>100210010002004-09-02</td>\n",
       "      <td>1</td>\n",
       "    </tr>\n",
       "  </tbody>\n",
       "</table>\n",
       "</div>"
      ],
      "text/plain": [
       "      trnsact_identifier  number of items\n",
       "0  100210010002004-08-01                2\n",
       "1  100210010002004-08-04                2\n",
       "2  100210010002004-08-26                2\n",
       "3  100210010002004-08-27                1\n",
       "4  100210010002004-09-02                1"
      ]
     },
     "execution_count": 17,
     "metadata": {},
     "output_type": "execute_result"
    }
   ],
   "source": [
    "number_of_items_per_transaction = pd.DataFrame(filtered_trnsact.groupby([\"trnsact_identifier\"]).size().reset_index())\n",
    "number_of_items_per_transaction.columns = [\"trnsact_identifier\", \"number of items\"]\n",
    "number_of_items_per_transaction.head()"
   ]
  },
  {
   "cell_type": "code",
   "execution_count": 18,
   "metadata": {},
   "outputs": [
    {
     "data": {
      "text/plain": [
       "(33035962, 2)"
      ]
     },
     "execution_count": 18,
     "metadata": {},
     "output_type": "execute_result"
    }
   ],
   "source": [
    "one_item_per_transaction = number_of_items_per_transaction[number_of_items_per_transaction[\"number of items\"] <= 1]\n",
    "one_item_per_transaction.shape"
   ]
  },
  {
   "cell_type": "code",
   "execution_count": 19,
   "metadata": {},
   "outputs": [],
   "source": [
    "filtered_trnsact = filtered_trnsact[~filtered_trnsact[\"trnsact_identifier\"].isin(one_item_per_transaction[\"trnsact_identifier\"])]"
   ]
  },
  {
   "cell_type": "code",
   "execution_count": 20,
   "metadata": {},
   "outputs": [
    {
     "data": {
      "text/html": [
       "<div>\n",
       "<style scoped>\n",
       "    .dataframe tbody tr th:only-of-type {\n",
       "        vertical-align: middle;\n",
       "    }\n",
       "\n",
       "    .dataframe tbody tr th {\n",
       "        vertical-align: top;\n",
       "    }\n",
       "\n",
       "    .dataframe thead th {\n",
       "        text-align: right;\n",
       "    }\n",
       "</style>\n",
       "<table border=\"1\" class=\"dataframe\">\n",
       "  <thead>\n",
       "    <tr style=\"text-align: right;\">\n",
       "      <th></th>\n",
       "      <th>trnsact_identifier</th>\n",
       "    </tr>\n",
       "    <tr>\n",
       "      <th>SALEDATE</th>\n",
       "      <th></th>\n",
       "    </tr>\n",
       "  </thead>\n",
       "  <tbody>\n",
       "    <tr>\n",
       "      <td>2004-08-01</td>\n",
       "      <td>40146</td>\n",
       "    </tr>\n",
       "    <tr>\n",
       "      <td>2004-08-02</td>\n",
       "      <td>37368</td>\n",
       "    </tr>\n",
       "    <tr>\n",
       "      <td>2004-08-03</td>\n",
       "      <td>47223</td>\n",
       "    </tr>\n",
       "    <tr>\n",
       "      <td>2004-08-04</td>\n",
       "      <td>47574</td>\n",
       "    </tr>\n",
       "    <tr>\n",
       "      <td>2004-08-05</td>\n",
       "      <td>48387</td>\n",
       "    </tr>\n",
       "  </tbody>\n",
       "</table>\n",
       "</div>"
      ],
      "text/plain": [
       "            trnsact_identifier\n",
       "SALEDATE                      \n",
       "2004-08-01               40146\n",
       "2004-08-02               37368\n",
       "2004-08-03               47223\n",
       "2004-08-04               47574\n",
       "2004-08-05               48387"
      ]
     },
     "execution_count": 20,
     "metadata": {},
     "output_type": "execute_result"
    }
   ],
   "source": [
    "perday = pd.DataFrame(filtered_trnsact.groupby(\"SALEDATE\")[\"trnsact_identifier\"].nunique())\n",
    "perday.head()"
   ]
  },
  {
   "cell_type": "code",
   "execution_count": 21,
   "metadata": {},
   "outputs": [
    {
     "data": {
      "text/html": [
       "<div>\n",
       "<style scoped>\n",
       "    .dataframe tbody tr th:only-of-type {\n",
       "        vertical-align: middle;\n",
       "    }\n",
       "\n",
       "    .dataframe tbody tr th {\n",
       "        vertical-align: top;\n",
       "    }\n",
       "\n",
       "    .dataframe thead th {\n",
       "        text-align: right;\n",
       "    }\n",
       "</style>\n",
       "<table border=\"1\" class=\"dataframe\">\n",
       "  <thead>\n",
       "    <tr style=\"text-align: right;\">\n",
       "      <th></th>\n",
       "      <th>trnsact_identifier</th>\n",
       "    </tr>\n",
       "    <tr>\n",
       "      <th>SALEDATE</th>\n",
       "      <th></th>\n",
       "    </tr>\n",
       "  </thead>\n",
       "  <tbody>\n",
       "    <tr>\n",
       "      <td>2005-02-26</td>\n",
       "      <td>245993</td>\n",
       "    </tr>\n",
       "    <tr>\n",
       "      <td>2005-02-25</td>\n",
       "      <td>191242</td>\n",
       "    </tr>\n",
       "    <tr>\n",
       "      <td>2005-07-30</td>\n",
       "      <td>179734</td>\n",
       "    </tr>\n",
       "    <tr>\n",
       "      <td>2005-02-24</td>\n",
       "      <td>176676</td>\n",
       "    </tr>\n",
       "    <tr>\n",
       "      <td>2005-02-23</td>\n",
       "      <td>168602</td>\n",
       "    </tr>\n",
       "    <tr>\n",
       "      <td>...</td>\n",
       "      <td>...</td>\n",
       "    </tr>\n",
       "    <tr>\n",
       "      <td>2004-11-03</td>\n",
       "      <td>29299</td>\n",
       "    </tr>\n",
       "    <tr>\n",
       "      <td>2004-11-08</td>\n",
       "      <td>28016</td>\n",
       "    </tr>\n",
       "    <tr>\n",
       "      <td>2004-11-02</td>\n",
       "      <td>27714</td>\n",
       "    </tr>\n",
       "    <tr>\n",
       "      <td>2004-10-04</td>\n",
       "      <td>25975</td>\n",
       "    </tr>\n",
       "    <tr>\n",
       "      <td>2004-11-01</td>\n",
       "      <td>24699</td>\n",
       "    </tr>\n",
       "  </tbody>\n",
       "</table>\n",
       "<p>389 rows × 1 columns</p>\n",
       "</div>"
      ],
      "text/plain": [
       "            trnsact_identifier\n",
       "SALEDATE                      \n",
       "2005-02-26              245993\n",
       "2005-02-25              191242\n",
       "2005-07-30              179734\n",
       "2005-02-24              176676\n",
       "2005-02-23              168602\n",
       "...                        ...\n",
       "2004-11-03               29299\n",
       "2004-11-08               28016\n",
       "2004-11-02               27714\n",
       "2004-10-04               25975\n",
       "2004-11-01               24699\n",
       "\n",
       "[389 rows x 1 columns]"
      ]
     },
     "execution_count": 21,
     "metadata": {},
     "output_type": "execute_result"
    }
   ],
   "source": [
    "perday.sort_values(\"trnsact_identifier\", ascending = False)"
   ]
  },
  {
   "cell_type": "code",
   "execution_count": 22,
   "metadata": {},
   "outputs": [
    {
     "data": {
      "image/png": "[encoded data removed]",
      "text/plain": [
       "<Figure size 1440x360 with 1 Axes>"
      ]
     },
     "metadata": {
      "needs_background": "light"
     },
     "output_type": "display_data"
    }
   ],
   "source": [
    "plt.rcParams['figure.figsize'] = [20, 5]\n",
    "plt.plot(perday.index, perday[\"trnsact_identifier\"])\n",
    "plt.title(\"Number of transactions per day\")\n",
    "plt.xlabel(\"Date\")\n",
    "plt.ylabel(\"number of unique transactions\")\n",
    "plt.savefig('img/Number of transactions per day.png')\n",
    "plt.show()"
   ]
  },
  {
   "cell_type": "code",
   "execution_count": 23,
   "metadata": {},
   "outputs": [],
   "source": [
    "filtered_trnsact = filtered_trnsact[filtered_trnsact[\"SALEDATE\"] <= '2004-11-27']\n",
    "filtered_trnsact = filtered_trnsact[filtered_trnsact[\"SALEDATE\"] >= '2004-08-28']\n",
    "filtered_trnsact.to_csv(\"data/Dillards POS/trnsact_labelled_filtered1.csv\", index = False)"
   ]
  },
  {
   "cell_type": "markdown",
   "metadata": {},
   "source": [
    "### 1.3.3. STORE Selection"
   ]
  },
  {
   "cell_type": "code",
   "execution_count": null,
   "metadata": {},
   "outputs": [],
   "source": [
    "filtered_trnsact = pd.read_csv(\"data/Dillards POS/trnsact_labelled_filtered1.csv\")"
   ]
  },
  {
   "cell_type": "code",
   "execution_count": 24,
   "metadata": {},
   "outputs": [
    {
     "data": {
      "text/plain": [
       "276804"
      ]
     },
     "execution_count": 24,
     "metadata": {},
     "output_type": "execute_result"
    }
   ],
   "source": [
    "filtered_trnsact[\"SKU\"].nunique() # computationally heavy so cannot do all SKU"
   ]
  },
  {
   "cell_type": "code",
   "execution_count": 25,
   "metadata": {},
   "outputs": [],
   "source": [
    "common_sku = filtered_trnsact[filtered_trnsact[\"STORE\"] == min(filtered_trnsact[\"STORE\"].unique())][\"SKU\"].unique()\n",
    "for i in filtered_trnsact[\"STORE\"].unique():\n",
    "    cur = filtered_trnsact[filtered_trnsact[\"STORE\"]==i][\"SKU\"].unique()\n",
    "    common_sku = set(common_sku) & set(cur)"
   ]
  },
  {
   "cell_type": "code",
   "execution_count": 26,
   "metadata": {},
   "outputs": [
    {
     "data": {
      "text/plain": [
       "0"
      ]
     },
     "execution_count": 26,
     "metadata": {},
     "output_type": "execute_result"
    }
   ],
   "source": [
    "len(common_sku) # There was no SKU that was common to every STORE"
   ]
  },
  {
   "cell_type": "code",
   "execution_count": 27,
   "metadata": {},
   "outputs": [],
   "source": [
    "unique_SKU_per_store = pd.DataFrame(filtered_trnsact.groupby(\"STORE\")[\"SKU\"].nunique())"
   ]
  },
  {
   "cell_type": "code",
   "execution_count": 28,
   "metadata": {},
   "outputs": [],
   "source": [
    "dividing_with = 1000\n",
    "lister = [dividing_with*x for x in list(range(0, int(max(unique_SKU_per_store[\"SKU\"])/dividing_with)+2))]"
   ]
  },
  {
   "cell_type": "code",
   "execution_count": 29,
   "metadata": {},
   "outputs": [
    {
     "data": {
      "image/png": "[encoded data removed]",
      "text/plain": [
       "<Figure size 720x360 with 1 Axes>"
      ]
     },
     "metadata": {
      "needs_background": "light"
     },
     "output_type": "display_data"
    }
   ],
   "source": [
    "plt.rcParams['figure.figsize'] = [10, 5]\n",
    "unique_SKU_per_store[\"SKU\"].hist(bins = lister)\n",
    "plt.title(\"Distribution of number of unique SKUs that each store has\")\n",
    "plt.xlabel(\"number of unique SKUs\")\n",
    "plt.ylabel(\"number of STOREs\")\n",
    "plt.savefig('img/Distribution of number of unique SKUs that each store has.png')\n",
    "plt.show()"
   ]
  },
  {
   "cell_type": "code",
   "execution_count": 30,
   "metadata": {},
   "outputs": [
    {
     "data": {
      "text/html": [
       "<div>\n",
       "<style scoped>\n",
       "    .dataframe tbody tr th:only-of-type {\n",
       "        vertical-align: middle;\n",
       "    }\n",
       "\n",
       "    .dataframe tbody tr th {\n",
       "        vertical-align: top;\n",
       "    }\n",
       "\n",
       "    .dataframe thead th {\n",
       "        text-align: right;\n",
       "    }\n",
       "</style>\n",
       "<table border=\"1\" class=\"dataframe\">\n",
       "  <thead>\n",
       "    <tr style=\"text-align: right;\">\n",
       "      <th></th>\n",
       "      <th>SKU</th>\n",
       "    </tr>\n",
       "    <tr>\n",
       "      <th>STORE</th>\n",
       "      <th></th>\n",
       "    </tr>\n",
       "  </thead>\n",
       "  <tbody>\n",
       "    <tr>\n",
       "      <td>603</td>\n",
       "      <td>18855</td>\n",
       "    </tr>\n",
       "    <tr>\n",
       "      <td>807</td>\n",
       "      <td>18208</td>\n",
       "    </tr>\n",
       "    <tr>\n",
       "      <td>903</td>\n",
       "      <td>18222</td>\n",
       "    </tr>\n",
       "    <tr>\n",
       "      <td>907</td>\n",
       "      <td>18589</td>\n",
       "    </tr>\n",
       "    <tr>\n",
       "      <td>1702</td>\n",
       "      <td>18127</td>\n",
       "    </tr>\n",
       "  </tbody>\n",
       "</table>\n",
       "</div>"
      ],
      "text/plain": [
       "         SKU\n",
       "STORE       \n",
       "603    18855\n",
       "807    18208\n",
       "903    18222\n",
       "907    18589\n",
       "1702   18127"
      ]
     },
     "execution_count": 30,
     "metadata": {},
     "output_type": "execute_result"
    }
   ],
   "source": [
    "filtered_store = unique_SKU_per_store[unique_SKU_per_store[\"SKU\"] >= 18000]\n",
    "filtered_store = filtered_store[filtered_store[\"SKU\"] <= 19000]\n",
    "filtered_store.head()"
   ]
  },
  {
   "cell_type": "code",
   "execution_count": 31,
   "metadata": {},
   "outputs": [],
   "source": [
    "filtered_trnsact = filtered_trnsact[filtered_trnsact[\"STORE\"].isin(list(filtered_store.index))].reset_index(drop = True)"
   ]
  },
  {
   "cell_type": "markdown",
   "metadata": {},
   "source": [
    "### 1.3.4. SKU Selection"
   ]
  },
  {
   "cell_type": "code",
   "execution_count": 32,
   "metadata": {},
   "outputs": [
    {
     "data": {
      "text/plain": [
       "353"
      ]
     },
     "execution_count": 32,
     "metadata": {},
     "output_type": "execute_result"
    }
   ],
   "source": [
    "common_sku = filtered_trnsact[filtered_trnsact[\"STORE\"] == min(filtered_trnsact[\"STORE\"].unique())][\"SKU\"].unique()\n",
    "for i in filtered_trnsact[\"STORE\"].unique():\n",
    "    cur = filtered_trnsact[filtered_trnsact[\"STORE\"]==i][\"SKU\"].unique()\n",
    "    common_sku = set(common_sku) & set(cur)\n",
    "len(common_sku) # 343 unique SKUs shared among 25 STOREs"
   ]
  },
  {
   "cell_type": "code",
   "execution_count": 33,
   "metadata": {},
   "outputs": [
    {
     "data": {
      "text/plain": [
       "71229"
      ]
     },
     "execution_count": 33,
     "metadata": {},
     "output_type": "execute_result"
    }
   ],
   "source": [
    "filtered_trnsact = filtered_trnsact[filtered_trnsact[\"SKU\"].isin(list(common_sku))]\n",
    "filtered_trnsact[\"trnsact_identifier\"].nunique()"
   ]
  },
  {
   "cell_type": "code",
   "execution_count": 34,
   "metadata": {},
   "outputs": [],
   "source": [
    "filtered_trnsact.to_csv(\"data/Dillards POS/trnsact_labelled_filtered.csv\", index = False)"
   ]
  },
  {
   "cell_type": "markdown",
   "metadata": {},
   "source": [
    "## <i> 1.4. Verifying whether our filtered data is representative enough </i>"
   ]
  },
  {
   "cell_type": "code",
   "execution_count": 118,
   "metadata": {},
   "outputs": [],
   "source": [
    "filtered_trnsact.to_csv(\"data/Dillards POS/trnsact_labelled_filtered.csv\", index = False)"
   ]
  },
  {
   "cell_type": "code",
   "execution_count": 119,
   "metadata": {},
   "outputs": [
    {
     "name": "stdout",
     "output_type": "stream",
     "text": [
      "70.78% share these unique SKUs\n"
     ]
    }
   ],
   "source": [
    "fulfilling_store = 0\n",
    "fulfilling_store_list = []\n",
    "for index, row in pd.DataFrame(trnsact.groupby(\"STORE\")[\"SKU\"].unique()).iterrows():\n",
    "    checker = sum(~pd.DataFrame(filtered_trnsact[\"SKU\"].unique())[0].isin(list(row[\"SKU\"])))\n",
    "    if checker == 0: \n",
    "        fulfilling_store += 1   \n",
    "        fulfilling_store_list.append(index)\n",
    "print(\"%3.2f%% share these unique SKUs\" % (100.0*fulfilling_store/(trnsact[\"STORE\"].nunique())))"
   ]
  },
  {
   "cell_type": "markdown",
   "metadata": {},
   "source": [
    "## <i> 1.5. Filtering other tables </i>\n",
    "### 1.5.1 STRINFO"
   ]
  },
  {
   "cell_type": "code",
   "execution_count": 120,
   "metadata": {},
   "outputs": [
    {
     "name": "stdout",
     "output_type": "stream",
     "text": [
      "Initial nrow: 453 --> Filtered nrow: 25\n"
     ]
    }
   ],
   "source": [
    "strinfo = pd.read_csv(\"data/Dillards POS/strinfo_labelled.csv\")\n",
    "filtered_strinfo = strinfo[strinfo[\"STORE\"].isin(list(filtered_store.index))]\n",
    "print(\"Initial nrow: %i --> Filtered nrow: %i\" % (strinfo.shape[0], filtered_strinfo.shape[0]))\n",
    "filtered_strinfo.to_csv(\"data/Dillards POS/strinfo_labelled_filtered.csv\", index = False)"
   ]
  },
  {
   "cell_type": "markdown",
   "metadata": {},
   "source": [
    "### 1.5.2 SKSTINFO"
   ]
  },
  {
   "cell_type": "code",
   "execution_count": 121,
   "metadata": {},
   "outputs": [
    {
     "name": "stdout",
     "output_type": "stream",
     "text": [
      "Initial nrow: 39230146 --> Filtered nrow: 6036\n"
     ]
    }
   ],
   "source": [
    "skstinfo = pd.read_csv(\"data/Dillards POS/skstinfo_labelled.csv\")\n",
    "filtered_skstinfo = skstinfo[skstinfo[\"STORE\"].isin(list(filtered_store.index))]\n",
    "filtered_skstinfo = filtered_skstinfo[filtered_skstinfo[\"SKU\"].isin(list(filtered_trnsact[\"SKU\"].unique()))]\n",
    "print(\"Initial nrow: %i --> Filtered nrow: %i\" % (skstinfo.shape[0], filtered_skstinfo.shape[0]))\n",
    "filtered_skstinfo.to_csv(\"data/Dillards POS/skstinfo_labelled_filtered.csv\", index = False)"
   ]
  },
  {
   "cell_type": "markdown",
   "metadata": {},
   "source": [
    "### 1.5.3 SKUINFO & DEPTINFO"
   ]
  },
  {
   "cell_type": "code",
   "execution_count": 122,
   "metadata": {},
   "outputs": [
    {
     "name": "stdout",
     "output_type": "stream",
     "text": [
      "Initial nrow: 1564178 --> Filtered nrow: 353\n"
     ]
    }
   ],
   "source": [
    "skuinfo = pd.read_csv(\"data/Dillards POS/skuinfo_labelled.csv\")\n",
    "deptinfo = pd.read_csv(\"data/Dillards POS/deptinfo_labelled.csv\")\n",
    "sku_deptinfo = pd.merge(skuinfo, deptinfo, on = 'DEPT')\n",
    "filtered_sku_deptinfo = sku_deptinfo[sku_deptinfo[\"SKU\"].isin(list(filtered_trnsact[\"SKU\"].unique()))]\n",
    "print(\"Initial nrow: %i --> Filtered nrow: %i\" % (sku_deptinfo.shape[0], filtered_sku_deptinfo.shape[0]))\n",
    "filtered_sku_deptinfo.to_csv(\"data/Dillards POS/sku_deptinfo_labelled_filtered.csv\", index = False)"
   ]
  },
  {
   "cell_type": "markdown",
   "metadata": {},
   "source": [
    "---------\n",
    "# <u> 2. Exploratory Data Analysis (EDA)</u>\n",
    "## <i> 2.1. Rechecking the structure of data </i>\n",
    "Since we have gone through filtering processes, I tried to recheck our data and confirm that there was no clear problem caused by the filtering. \n",
    "### 2.1.1 TRNSACT"
   ]
  },
  {
   "cell_type": "code",
   "execution_count": 123,
   "metadata": {},
   "outputs": [
    {
     "name": "stdout",
     "output_type": "stream",
     "text": [
      "What is the shape of the data?\n",
      "(133306, 14)\n",
      "========\n",
      "Is there any missing data?\n",
      "SKU                   0\n",
      "STORE                 0\n",
      "REGISTER              0\n",
      "TRANNUM               0\n",
      "SEQ                   0\n",
      "SALEDATE              0\n",
      "STYPE                 0\n",
      "QUANTITY              0\n",
      "ORGPRICE              0\n",
      "SPRICE                0\n",
      "AMT                   0\n",
      "INTERID               0\n",
      "MIC                   0\n",
      "trnsact_identifier    0\n",
      "dtype: int64\n",
      "========\n",
      "What is the distribution of data?\n",
      "               SKU       STORE    REGISTER     TRANNUM            SEQ  \\\n",
      "count  133306.0000 133306.0000 133306.0000 133306.0000    133306.0000   \n",
      "mean  4594032.5316   4234.5205    432.4227   3650.8692 202931602.5955   \n",
      "std   2540712.5467   2937.7097    187.6384   3546.5562 306306193.4142   \n",
      "min     29633.0000    603.0000      1.0000    100.0000         0.0000   \n",
      "25%   2744854.0000   2209.0000    330.0000   1200.0000         0.0000   \n",
      "50%   3998011.0000   3109.0000    420.0000   2500.0000         0.0000   \n",
      "75%   6367618.0000   7103.0000    570.0000   4900.0000 382578760.0000   \n",
      "max   9999950.0000   9609.0000    990.0000  45300.0000 999902142.0000   \n",
      "\n",
      "         QUANTITY    ORGPRICE      SPRICE         AMT        INTERID  \\\n",
      "count 133306.0000 133306.0000 133306.0000 133306.0000    133306.0000   \n",
      "mean       1.0000     18.4729     18.1609     18.1609 501651541.3948   \n",
      "std        0.0000     11.5529     10.0457     10.0457 287529942.1505   \n",
      "min        1.0000      1.0000      0.0100      0.0100        12.0000   \n",
      "25%        1.0000     13.5000     13.5000     13.5000 253700220.2500   \n",
      "50%        1.0000     16.5000     16.5000     16.5000 500700023.0000   \n",
      "75%        1.0000     20.5000     20.5000     20.5000 752600093.2500   \n",
      "max        1.0000    200.0000     98.0000     98.0000 999900103.0000   \n",
      "\n",
      "              MIC  \n",
      "count 133306.0000  \n",
      "mean     341.2038  \n",
      "std      148.8494  \n",
      "min       22.0000  \n",
      "25%      281.0000  \n",
      "50%      281.0000  \n",
      "75%      281.0000  \n",
      "max      896.0000  \n",
      "========\n",
      "What is number of unique values of each column of data?\n",
      "Number of unique values of SKU column: 353\n",
      "Number of unique values of STORE column: 25\n",
      "Number of unique values of REGISTER column: 118\n",
      "Number of unique values of TRANNUM column: 340\n",
      "Number of unique values of SEQ column: 25084\n",
      "Number of unique values of SALEDATE column: 91\n",
      "Number of unique values of STYPE column: 1\n",
      "Number of unique values of QUANTITY column: 1\n",
      "Number of unique values of ORGPRICE column: 66\n",
      "Number of unique values of SPRICE column: 108\n",
      "Number of unique values of AMT column: 108\n",
      "Number of unique values of INTERID column: 126412\n",
      "Number of unique values of MIC column: 14\n",
      "Number of unique values of trnsact_identifier column: 71229\n"
     ]
    }
   ],
   "source": [
    "filtered_trnsact = pd.read_csv(\"data/Dillards POS/trnsact_labelled_filtered.csv\")\n",
    "structure_checker(filtered_trnsact)"
   ]
  },
  {
   "cell_type": "markdown",
   "metadata": {},
   "source": [
    "### 2.1.2. STRINFO"
   ]
  },
  {
   "cell_type": "code",
   "execution_count": 124,
   "metadata": {},
   "outputs": [
    {
     "name": "stdout",
     "output_type": "stream",
     "text": [
      "What is the shape of the data?\n",
      "(25, 4)\n",
      "========\n",
      "Is there any missing data?\n",
      "STORE    0\n",
      "CITY     0\n",
      "STATE    0\n",
      "ZIP      0\n",
      "dtype: int64\n",
      "========\n",
      "What is the distribution of data?\n",
      "          STORE        ZIP\n",
      "count   25.0000    25.0000\n",
      "mean  4549.3600 59604.0400\n",
      "std   3085.9911 22718.0296\n",
      "min    603.0000 23235.0000\n",
      "25%   2209.0000 37129.0000\n",
      "50%   3309.0000 64114.0000\n",
      "75%   7704.0000 80122.0000\n",
      "max   9609.0000 88011.0000\n",
      "========\n",
      "What is number of unique values of each column of data?\n",
      "Number of unique values of STORE column: 25\n",
      "Number of unique values of CITY column: 24\n",
      "Number of unique values of STATE column: 13\n",
      "Number of unique values of ZIP column: 25\n"
     ]
    }
   ],
   "source": [
    "filtered_strinfo = pd.read_csv(\"data/Dillards POS/strinfo_labelled_filtered.csv\")\n",
    "structure_checker(filtered_strinfo)"
   ]
  },
  {
   "cell_type": "markdown",
   "metadata": {},
   "source": [
    "### 2.1.3. SKSTINFO"
   ]
  },
  {
   "cell_type": "code",
   "execution_count": 125,
   "metadata": {},
   "outputs": [
    {
     "name": "stdout",
     "output_type": "stream",
     "text": [
      "What is the shape of the data?\n",
      "(6036, 4)\n",
      "========\n",
      "Is there any missing data?\n",
      "SKU       0\n",
      "STORE     0\n",
      "COST      0\n",
      "RETAIL    0\n",
      "dtype: int64\n",
      "========\n",
      "What is the distribution of data?\n",
      "               SKU     STORE      COST    RETAIL\n",
      "count    6036.0000 6036.0000 6036.0000 6036.0000\n",
      "mean  4795075.6925 4544.5437   11.8583   19.7546\n",
      "std   2805057.9326 3024.3676    8.0215   13.3406\n",
      "min     29633.0000  603.0000    0.6000    1.0000\n",
      "25%   2698353.0000 2209.0000    8.1000   13.5000\n",
      "50%   4032567.0000 3309.0000   10.5000   17.5000\n",
      "75%   7197141.0000 7704.0000   12.3000   20.5000\n",
      "max   9999950.0000 9609.0000   60.0000  100.0000\n",
      "========\n",
      "What is number of unique values of each column of data?\n",
      "Number of unique values of SKU column: 254\n",
      "Number of unique values of STORE column: 25\n",
      "Number of unique values of COST column: 62\n",
      "Number of unique values of RETAIL column: 61\n"
     ]
    }
   ],
   "source": [
    "filtered_skstinfo = pd.read_csv(\"data/Dillards POS/skstinfo_labelled_filtered.csv\")\n",
    "structure_checker(filtered_skstinfo)"
   ]
  },
  {
   "cell_type": "markdown",
   "metadata": {},
   "source": [
    "### 2.1.4. SKUINFO & DEPTINFO"
   ]
  },
  {
   "cell_type": "code",
   "execution_count": 126,
   "metadata": {},
   "outputs": [
    {
     "name": "stdout",
     "output_type": "stream",
     "text": [
      "What is the shape of the data?\n",
      "(353, 11)\n",
      "========\n",
      "Is there any missing data?\n",
      "SKU         0\n",
      "DEPT        0\n",
      "CLASSID     0\n",
      "UPC         0\n",
      "STYLE       0\n",
      "COLOR       0\n",
      "SIZE        0\n",
      "PACKSIZE    0\n",
      "VENDOR      0\n",
      "BRAND       0\n",
      "DEPTDESC    0\n",
      "dtype: int64\n",
      "========\n",
      "What is the distribution of data?\n",
      "               SKU      DEPT  CLASSID               UPC  PACKSIZE       VENDOR\n",
      "count     353.0000  353.0000 353.0000          353.0000  353.0000     353.0000\n",
      "mean  4846667.6289 1426.0340  36.3853 400005733268.7960    3.3541 4079210.5552\n",
      "std   2833402.8605 1238.4960 123.3271      2831297.1062    2.0034 2433925.4436\n",
      "min     29633.0000  800.0000   1.0000 400000057361.0000    1.0000   11679.0000\n",
      "25%   2641331.0000  800.0000   4.0000 400003241193.0000    3.0000  113645.0000\n",
      "50%   4148348.0000  800.0000   7.0000 400006578271.0000    3.0000 5511283.0000\n",
      "75%   7217141.0000 2200.0000   7.0000 400008107158.0000    3.0000 5511283.0000\n",
      "max   9999950.0000 6402.0000 999.0000 400009951002.0000   24.0000 9916342.0000\n",
      "========\n",
      "What is number of unique values of each column of data?\n",
      "Number of unique values of SKU column: 353\n",
      "Number of unique values of DEPT column: 9\n",
      "Number of unique values of CLASSID column: 28\n",
      "Number of unique values of UPC column: 353\n",
      "Number of unique values of STYLE column: 214\n",
      "Number of unique values of COLOR column: 306\n",
      "Number of unique values of SIZE column: 158\n",
      "Number of unique values of PACKSIZE column: 8\n",
      "Number of unique values of VENDOR column: 14\n",
      "Number of unique values of BRAND column: 14\n",
      "Number of unique values of DEPTDESC column: 9\n"
     ]
    }
   ],
   "source": [
    "filtered_sku_deptinfo = pd.read_csv(\"data/Dillards POS/sku_deptinfo_labelled_filtered.csv\")\n",
    "structure_checker(filtered_sku_deptinfo)"
   ]
  },
  {
   "cell_type": "markdown",
   "metadata": {},
   "source": [
    "## <i> 2.2. Checking the relationship between data tables</i>"
   ]
  },
  {
   "cell_type": "code",
   "execution_count": 127,
   "metadata": {},
   "outputs": [],
   "source": [
    "def equal_checker(data1, data2, checking_column):\n",
    "    list1 = data1.drop_duplicates(subset = checking_column)[checking_column].sort_values(by = checking_column).reset_index(drop = True)\n",
    "    list2 = data2.drop_duplicates(subset = checking_column)[checking_column].sort_values(by = checking_column).reset_index(drop = True)\n",
    "    return list1.equals(list2)"
   ]
  },
  {
   "cell_type": "markdown",
   "metadata": {},
   "source": [
    "### 2.2.1. TRNSACT and SKSTINFO\n",
    "<b> SKU, STORE pair </b>"
   ]
  },
  {
   "cell_type": "code",
   "execution_count": 128,
   "metadata": {},
   "outputs": [
    {
     "data": {
      "text/plain": [
       "False"
      ]
     },
     "execution_count": 128,
     "metadata": {},
     "output_type": "execute_result"
    }
   ],
   "source": [
    "equal_checker(filtered_trnsact, filtered_skstinfo, [\"SKU\", \"STORE\"])"
   ]
  },
  {
   "cell_type": "code",
   "execution_count": 129,
   "metadata": {},
   "outputs": [
    {
     "data": {
      "text/plain": [
       "8825"
      ]
     },
     "execution_count": 129,
     "metadata": {},
     "output_type": "execute_result"
    }
   ],
   "source": [
    "filtered_trnsact.drop_duplicates(subset = [\"SKU\", \"STORE\"]).shape[0]"
   ]
  },
  {
   "cell_type": "code",
   "execution_count": 130,
   "metadata": {},
   "outputs": [
    {
     "data": {
      "text/plain": [
       "6036"
      ]
     },
     "execution_count": 130,
     "metadata": {},
     "output_type": "execute_result"
    }
   ],
   "source": [
    "filtered_skstinfo.drop_duplicates(subset = [\"SKU\", \"STORE\"]).shape[0]"
   ]
  },
  {
   "cell_type": "markdown",
   "metadata": {},
   "source": [
    "<b> SKU </b>"
   ]
  },
  {
   "cell_type": "code",
   "execution_count": 131,
   "metadata": {},
   "outputs": [
    {
     "data": {
      "text/plain": [
       "False"
      ]
     },
     "execution_count": 131,
     "metadata": {},
     "output_type": "execute_result"
    }
   ],
   "source": [
    "equal_checker(filtered_trnsact, filtered_skstinfo, [\"SKU\"])"
   ]
  },
  {
   "cell_type": "code",
   "execution_count": 132,
   "metadata": {},
   "outputs": [
    {
     "data": {
      "text/plain": [
       "353"
      ]
     },
     "execution_count": 132,
     "metadata": {},
     "output_type": "execute_result"
    }
   ],
   "source": [
    "filtered_trnsact[\"SKU\"].nunique()"
   ]
  },
  {
   "cell_type": "code",
   "execution_count": 133,
   "metadata": {},
   "outputs": [
    {
     "data": {
      "text/plain": [
       "254"
      ]
     },
     "execution_count": 133,
     "metadata": {},
     "output_type": "execute_result"
    }
   ],
   "source": [
    "filtered_skstinfo[\"SKU\"].nunique()"
   ]
  },
  {
   "cell_type": "markdown",
   "metadata": {},
   "source": [
    "<b> STORE </b>"
   ]
  },
  {
   "cell_type": "code",
   "execution_count": 134,
   "metadata": {},
   "outputs": [
    {
     "data": {
      "text/plain": [
       "True"
      ]
     },
     "execution_count": 134,
     "metadata": {},
     "output_type": "execute_result"
    }
   ],
   "source": [
    "equal_checker(filtered_trnsact, filtered_skstinfo, [\"STORE\"])"
   ]
  },
  {
   "cell_type": "markdown",
   "metadata": {},
   "source": [
    "### 2.2.2. STRINFO and SKSTINFO\n",
    "<b> STORE </b>"
   ]
  },
  {
   "cell_type": "code",
   "execution_count": 135,
   "metadata": {},
   "outputs": [
    {
     "data": {
      "text/plain": [
       "True"
      ]
     },
     "execution_count": 135,
     "metadata": {},
     "output_type": "execute_result"
    }
   ],
   "source": [
    "equal_checker(filtered_strinfo, filtered_skstinfo, [\"STORE\"])"
   ]
  },
  {
   "cell_type": "markdown",
   "metadata": {},
   "source": [
    "### 2.2.3. TRNSACT and SKU_DEPTINFO\n",
    "<b> SKU </b>"
   ]
  },
  {
   "cell_type": "code",
   "execution_count": 136,
   "metadata": {},
   "outputs": [
    {
     "data": {
      "text/plain": [
       "True"
      ]
     },
     "execution_count": 136,
     "metadata": {},
     "output_type": "execute_result"
    }
   ],
   "source": [
    "equal_checker(filtered_trnsact, filtered_sku_deptinfo, [\"SKU\"])"
   ]
  },
  {
   "cell_type": "markdown",
   "metadata": {},
   "source": [
    "### 2.2.4. TRNSACT and STRINFO\n",
    "<b> STORE </b>"
   ]
  },
  {
   "cell_type": "code",
   "execution_count": 137,
   "metadata": {},
   "outputs": [
    {
     "data": {
      "text/plain": [
       "True"
      ]
     },
     "execution_count": 137,
     "metadata": {},
     "output_type": "execute_result"
    }
   ],
   "source": [
    "equal_checker(filtered_trnsact, filtered_strinfo, [\"STORE\"])"
   ]
  },
  {
   "cell_type": "markdown",
   "metadata": {},
   "source": [
    "------"
   ]
  },
  {
   "cell_type": "markdown",
   "metadata": {},
   "source": [
    "# <u> 3. Applying the Apriori Algorithm</u>"
   ]
  },
  {
   "cell_type": "code",
   "execution_count": 138,
   "metadata": {},
   "outputs": [],
   "source": [
    "filtered_trnsact = pd.read_csv(\"data/Dillards POS/trnsact_labelled_filtered.csv\")\n",
    "pd.set_option('display.float_format', lambda x: '%.4f' % x)"
   ]
  },
  {
   "cell_type": "code",
   "execution_count": 139,
   "metadata": {},
   "outputs": [
    {
     "data": {
      "text/html": [
       "<div>\n",
       "<style scoped>\n",
       "    .dataframe tbody tr th:only-of-type {\n",
       "        vertical-align: middle;\n",
       "    }\n",
       "\n",
       "    .dataframe tbody tr th {\n",
       "        vertical-align: top;\n",
       "    }\n",
       "\n",
       "    .dataframe thead th {\n",
       "        text-align: right;\n",
       "    }\n",
       "</style>\n",
       "<table border=\"1\" class=\"dataframe\">\n",
       "  <thead>\n",
       "    <tr style=\"text-align: right;\">\n",
       "      <th></th>\n",
       "      <th>SKU_29633</th>\n",
       "      <th>SKU_29951</th>\n",
       "      <th>SKU_68086</th>\n",
       "      <th>SKU_106343</th>\n",
       "      <th>SKU_108507</th>\n",
       "      <th>SKU_136343</th>\n",
       "      <th>SKU_144138</th>\n",
       "      <th>SKU_208362</th>\n",
       "      <th>SKU_243921</th>\n",
       "      <th>SKU_264715</th>\n",
       "      <th>...</th>\n",
       "      <th>SKU_9782306</th>\n",
       "      <th>SKU_9836218</th>\n",
       "      <th>SKU_9880895</th>\n",
       "      <th>SKU_9891900</th>\n",
       "      <th>SKU_9908506</th>\n",
       "      <th>SKU_9911900</th>\n",
       "      <th>SKU_9919950</th>\n",
       "      <th>SKU_9999170</th>\n",
       "      <th>SKU_9999950</th>\n",
       "      <th>trnsact_identifier</th>\n",
       "    </tr>\n",
       "  </thead>\n",
       "  <tbody>\n",
       "    <tr>\n",
       "      <td>0</td>\n",
       "      <td>True</td>\n",
       "      <td>False</td>\n",
       "      <td>False</td>\n",
       "      <td>False</td>\n",
       "      <td>False</td>\n",
       "      <td>False</td>\n",
       "      <td>False</td>\n",
       "      <td>False</td>\n",
       "      <td>False</td>\n",
       "      <td>False</td>\n",
       "      <td>...</td>\n",
       "      <td>False</td>\n",
       "      <td>False</td>\n",
       "      <td>False</td>\n",
       "      <td>False</td>\n",
       "      <td>False</td>\n",
       "      <td>False</td>\n",
       "      <td>False</td>\n",
       "      <td>False</td>\n",
       "      <td>False</td>\n",
       "      <td>6038041002004-10-10</td>\n",
       "    </tr>\n",
       "    <tr>\n",
       "      <td>1</td>\n",
       "      <td>True</td>\n",
       "      <td>False</td>\n",
       "      <td>False</td>\n",
       "      <td>False</td>\n",
       "      <td>False</td>\n",
       "      <td>False</td>\n",
       "      <td>False</td>\n",
       "      <td>False</td>\n",
       "      <td>False</td>\n",
       "      <td>False</td>\n",
       "      <td>...</td>\n",
       "      <td>False</td>\n",
       "      <td>False</td>\n",
       "      <td>False</td>\n",
       "      <td>False</td>\n",
       "      <td>False</td>\n",
       "      <td>False</td>\n",
       "      <td>False</td>\n",
       "      <td>False</td>\n",
       "      <td>False</td>\n",
       "      <td>6038043002004-10-09</td>\n",
       "    </tr>\n",
       "    <tr>\n",
       "      <td>2</td>\n",
       "      <td>True</td>\n",
       "      <td>False</td>\n",
       "      <td>False</td>\n",
       "      <td>False</td>\n",
       "      <td>False</td>\n",
       "      <td>False</td>\n",
       "      <td>False</td>\n",
       "      <td>False</td>\n",
       "      <td>False</td>\n",
       "      <td>False</td>\n",
       "      <td>...</td>\n",
       "      <td>False</td>\n",
       "      <td>False</td>\n",
       "      <td>False</td>\n",
       "      <td>False</td>\n",
       "      <td>False</td>\n",
       "      <td>False</td>\n",
       "      <td>False</td>\n",
       "      <td>False</td>\n",
       "      <td>False</td>\n",
       "      <td>60319036002004-10-09</td>\n",
       "    </tr>\n",
       "    <tr>\n",
       "      <td>3</td>\n",
       "      <td>True</td>\n",
       "      <td>False</td>\n",
       "      <td>False</td>\n",
       "      <td>False</td>\n",
       "      <td>False</td>\n",
       "      <td>False</td>\n",
       "      <td>False</td>\n",
       "      <td>False</td>\n",
       "      <td>False</td>\n",
       "      <td>False</td>\n",
       "      <td>...</td>\n",
       "      <td>False</td>\n",
       "      <td>False</td>\n",
       "      <td>False</td>\n",
       "      <td>False</td>\n",
       "      <td>False</td>\n",
       "      <td>False</td>\n",
       "      <td>False</td>\n",
       "      <td>False</td>\n",
       "      <td>False</td>\n",
       "      <td>60320096002004-10-05</td>\n",
       "    </tr>\n",
       "    <tr>\n",
       "      <td>4</td>\n",
       "      <td>True</td>\n",
       "      <td>False</td>\n",
       "      <td>False</td>\n",
       "      <td>False</td>\n",
       "      <td>False</td>\n",
       "      <td>False</td>\n",
       "      <td>False</td>\n",
       "      <td>False</td>\n",
       "      <td>False</td>\n",
       "      <td>False</td>\n",
       "      <td>...</td>\n",
       "      <td>False</td>\n",
       "      <td>False</td>\n",
       "      <td>False</td>\n",
       "      <td>False</td>\n",
       "      <td>False</td>\n",
       "      <td>False</td>\n",
       "      <td>False</td>\n",
       "      <td>False</td>\n",
       "      <td>False</td>\n",
       "      <td>60324021002004-09-04</td>\n",
       "    </tr>\n",
       "  </tbody>\n",
       "</table>\n",
       "<p>5 rows × 354 columns</p>\n",
       "</div>"
      ],
      "text/plain": [
       "   SKU_29633  SKU_29951  SKU_68086  SKU_106343  SKU_108507  SKU_136343  \\\n",
       "0       True      False      False       False       False       False   \n",
       "1       True      False      False       False       False       False   \n",
       "2       True      False      False       False       False       False   \n",
       "3       True      False      False       False       False       False   \n",
       "4       True      False      False       False       False       False   \n",
       "\n",
       "   SKU_144138  SKU_208362  SKU_243921  SKU_264715  ...  SKU_9782306  \\\n",
       "0       False       False       False       False  ...        False   \n",
       "1       False       False       False       False  ...        False   \n",
       "2       False       False       False       False  ...        False   \n",
       "3       False       False       False       False  ...        False   \n",
       "4       False       False       False       False  ...        False   \n",
       "\n",
       "   SKU_9836218  SKU_9880895  SKU_9891900  SKU_9908506  SKU_9911900  \\\n",
       "0        False        False        False        False        False   \n",
       "1        False        False        False        False        False   \n",
       "2        False        False        False        False        False   \n",
       "3        False        False        False        False        False   \n",
       "4        False        False        False        False        False   \n",
       "\n",
       "   SKU_9919950  SKU_9999170  SKU_9999950    trnsact_identifier  \n",
       "0        False        False        False   6038041002004-10-10  \n",
       "1        False        False        False   6038043002004-10-09  \n",
       "2        False        False        False  60319036002004-10-09  \n",
       "3        False        False        False  60320096002004-10-05  \n",
       "4        False        False        False  60324021002004-09-04  \n",
       "\n",
       "[5 rows x 354 columns]"
      ]
     },
     "execution_count": 139,
     "metadata": {},
     "output_type": "execute_result"
    }
   ],
   "source": [
    "SKU_bool = pd.get_dummies(filtered_trnsact[\"SKU\"], prefix='SKU')\n",
    "SKU_bool[\"trnsact_identifier\"] = list(filtered_trnsact[\"trnsact_identifier\"])\n",
    "\n",
    "for column in SKU_bool.columns:\n",
    "    if column != \"trnsact_identifier\":\n",
    "        SKU_bool[column] = SKU_bool[column].astype(bool)\n",
    "SKU_bool.head()"
   ]
  },
  {
   "cell_type": "code",
   "execution_count": 140,
   "metadata": {},
   "outputs": [
    {
     "data": {
      "text/html": [
       "<div>\n",
       "<style scoped>\n",
       "    .dataframe tbody tr th:only-of-type {\n",
       "        vertical-align: middle;\n",
       "    }\n",
       "\n",
       "    .dataframe tbody tr th {\n",
       "        vertical-align: top;\n",
       "    }\n",
       "\n",
       "    .dataframe thead th {\n",
       "        text-align: right;\n",
       "    }\n",
       "</style>\n",
       "<table border=\"1\" class=\"dataframe\">\n",
       "  <thead>\n",
       "    <tr style=\"text-align: right;\">\n",
       "      <th></th>\n",
       "      <th>SKU_29633</th>\n",
       "      <th>SKU_29951</th>\n",
       "      <th>SKU_68086</th>\n",
       "      <th>SKU_106343</th>\n",
       "      <th>SKU_108507</th>\n",
       "      <th>SKU_136343</th>\n",
       "      <th>SKU_144138</th>\n",
       "      <th>SKU_208362</th>\n",
       "      <th>SKU_243921</th>\n",
       "      <th>SKU_264715</th>\n",
       "      <th>...</th>\n",
       "      <th>SKU_9752306</th>\n",
       "      <th>SKU_9782306</th>\n",
       "      <th>SKU_9836218</th>\n",
       "      <th>SKU_9880895</th>\n",
       "      <th>SKU_9891900</th>\n",
       "      <th>SKU_9908506</th>\n",
       "      <th>SKU_9911900</th>\n",
       "      <th>SKU_9919950</th>\n",
       "      <th>SKU_9999170</th>\n",
       "      <th>SKU_9999950</th>\n",
       "    </tr>\n",
       "    <tr>\n",
       "      <th>trnsact_identifier</th>\n",
       "      <th></th>\n",
       "      <th></th>\n",
       "      <th></th>\n",
       "      <th></th>\n",
       "      <th></th>\n",
       "      <th></th>\n",
       "      <th></th>\n",
       "      <th></th>\n",
       "      <th></th>\n",
       "      <th></th>\n",
       "      <th></th>\n",
       "      <th></th>\n",
       "      <th></th>\n",
       "      <th></th>\n",
       "      <th></th>\n",
       "      <th></th>\n",
       "      <th></th>\n",
       "      <th></th>\n",
       "      <th></th>\n",
       "      <th></th>\n",
       "      <th></th>\n",
       "    </tr>\n",
       "  </thead>\n",
       "  <tbody>\n",
       "    <tr>\n",
       "      <td>17021006002004-10-12</td>\n",
       "      <td>False</td>\n",
       "      <td>False</td>\n",
       "      <td>False</td>\n",
       "      <td>False</td>\n",
       "      <td>False</td>\n",
       "      <td>False</td>\n",
       "      <td>False</td>\n",
       "      <td>False</td>\n",
       "      <td>False</td>\n",
       "      <td>False</td>\n",
       "      <td>...</td>\n",
       "      <td>False</td>\n",
       "      <td>False</td>\n",
       "      <td>False</td>\n",
       "      <td>False</td>\n",
       "      <td>False</td>\n",
       "      <td>False</td>\n",
       "      <td>False</td>\n",
       "      <td>False</td>\n",
       "      <td>False</td>\n",
       "      <td>False</td>\n",
       "    </tr>\n",
       "    <tr>\n",
       "      <td>170211012002004-11-16</td>\n",
       "      <td>False</td>\n",
       "      <td>False</td>\n",
       "      <td>False</td>\n",
       "      <td>False</td>\n",
       "      <td>False</td>\n",
       "      <td>False</td>\n",
       "      <td>False</td>\n",
       "      <td>False</td>\n",
       "      <td>False</td>\n",
       "      <td>False</td>\n",
       "      <td>...</td>\n",
       "      <td>False</td>\n",
       "      <td>False</td>\n",
       "      <td>False</td>\n",
       "      <td>False</td>\n",
       "      <td>False</td>\n",
       "      <td>False</td>\n",
       "      <td>False</td>\n",
       "      <td>False</td>\n",
       "      <td>False</td>\n",
       "      <td>False</td>\n",
       "    </tr>\n",
       "    <tr>\n",
       "      <td>170211046002004-10-01</td>\n",
       "      <td>False</td>\n",
       "      <td>False</td>\n",
       "      <td>False</td>\n",
       "      <td>False</td>\n",
       "      <td>False</td>\n",
       "      <td>False</td>\n",
       "      <td>False</td>\n",
       "      <td>False</td>\n",
       "      <td>False</td>\n",
       "      <td>False</td>\n",
       "      <td>...</td>\n",
       "      <td>False</td>\n",
       "      <td>False</td>\n",
       "      <td>False</td>\n",
       "      <td>False</td>\n",
       "      <td>False</td>\n",
       "      <td>False</td>\n",
       "      <td>False</td>\n",
       "      <td>False</td>\n",
       "      <td>False</td>\n",
       "      <td>False</td>\n",
       "    </tr>\n",
       "    <tr>\n",
       "      <td>170211083002004-10-02</td>\n",
       "      <td>False</td>\n",
       "      <td>False</td>\n",
       "      <td>False</td>\n",
       "      <td>False</td>\n",
       "      <td>False</td>\n",
       "      <td>False</td>\n",
       "      <td>False</td>\n",
       "      <td>False</td>\n",
       "      <td>False</td>\n",
       "      <td>False</td>\n",
       "      <td>...</td>\n",
       "      <td>False</td>\n",
       "      <td>False</td>\n",
       "      <td>False</td>\n",
       "      <td>False</td>\n",
       "      <td>False</td>\n",
       "      <td>False</td>\n",
       "      <td>False</td>\n",
       "      <td>False</td>\n",
       "      <td>False</td>\n",
       "      <td>False</td>\n",
       "    </tr>\n",
       "    <tr>\n",
       "      <td>170214011002004-10-02</td>\n",
       "      <td>False</td>\n",
       "      <td>False</td>\n",
       "      <td>False</td>\n",
       "      <td>False</td>\n",
       "      <td>False</td>\n",
       "      <td>False</td>\n",
       "      <td>False</td>\n",
       "      <td>False</td>\n",
       "      <td>False</td>\n",
       "      <td>False</td>\n",
       "      <td>...</td>\n",
       "      <td>False</td>\n",
       "      <td>False</td>\n",
       "      <td>False</td>\n",
       "      <td>False</td>\n",
       "      <td>False</td>\n",
       "      <td>False</td>\n",
       "      <td>False</td>\n",
       "      <td>False</td>\n",
       "      <td>False</td>\n",
       "      <td>False</td>\n",
       "    </tr>\n",
       "  </tbody>\n",
       "</table>\n",
       "<p>5 rows × 353 columns</p>\n",
       "</div>"
      ],
      "text/plain": [
       "                       SKU_29633  SKU_29951  SKU_68086  SKU_106343  \\\n",
       "trnsact_identifier                                                   \n",
       "17021006002004-10-12       False      False      False       False   \n",
       "170211012002004-11-16      False      False      False       False   \n",
       "170211046002004-10-01      False      False      False       False   \n",
       "170211083002004-10-02      False      False      False       False   \n",
       "170214011002004-10-02      False      False      False       False   \n",
       "\n",
       "                       SKU_108507  SKU_136343  SKU_144138  SKU_208362  \\\n",
       "trnsact_identifier                                                      \n",
       "17021006002004-10-12        False       False       False       False   \n",
       "170211012002004-11-16       False       False       False       False   \n",
       "170211046002004-10-01       False       False       False       False   \n",
       "170211083002004-10-02       False       False       False       False   \n",
       "170214011002004-10-02       False       False       False       False   \n",
       "\n",
       "                       SKU_243921  SKU_264715  ...  SKU_9752306  SKU_9782306  \\\n",
       "trnsact_identifier                             ...                             \n",
       "17021006002004-10-12        False       False  ...        False        False   \n",
       "170211012002004-11-16       False       False  ...        False        False   \n",
       "170211046002004-10-01       False       False  ...        False        False   \n",
       "170211083002004-10-02       False       False  ...        False        False   \n",
       "170214011002004-10-02       False       False  ...        False        False   \n",
       "\n",
       "                       SKU_9836218  SKU_9880895  SKU_9891900  SKU_9908506  \\\n",
       "trnsact_identifier                                                          \n",
       "17021006002004-10-12         False        False        False        False   \n",
       "170211012002004-11-16        False        False        False        False   \n",
       "170211046002004-10-01        False        False        False        False   \n",
       "170211083002004-10-02        False        False        False        False   \n",
       "170214011002004-10-02        False        False        False        False   \n",
       "\n",
       "                       SKU_9911900  SKU_9919950  SKU_9999170  SKU_9999950  \n",
       "trnsact_identifier                                                         \n",
       "17021006002004-10-12         False        False        False        False  \n",
       "170211012002004-11-16        False        False        False        False  \n",
       "170211046002004-10-01        False        False        False        False  \n",
       "170211083002004-10-02        False        False        False        False  \n",
       "170214011002004-10-02        False        False        False        False  \n",
       "\n",
       "[5 rows x 353 columns]"
      ]
     },
     "execution_count": 140,
     "metadata": {},
     "output_type": "execute_result"
    }
   ],
   "source": [
    "ForApriori = SKU_bool.groupby([\"trnsact_identifier\"]).any()\n",
    "ForApriori.to_csv(\"data/ForApriori.csv\", index = False)\n",
    "ForApriori.head()"
   ]
  },
  {
   "cell_type": "code",
   "execution_count": 141,
   "metadata": {},
   "outputs": [
    {
     "data": {
      "text/html": [
       "<div>\n",
       "<style scoped>\n",
       "    .dataframe tbody tr th:only-of-type {\n",
       "        vertical-align: middle;\n",
       "    }\n",
       "\n",
       "    .dataframe tbody tr th {\n",
       "        vertical-align: top;\n",
       "    }\n",
       "\n",
       "    .dataframe thead th {\n",
       "        text-align: right;\n",
       "    }\n",
       "</style>\n",
       "<table border=\"1\" class=\"dataframe\">\n",
       "  <thead>\n",
       "    <tr style=\"text-align: right;\">\n",
       "      <th></th>\n",
       "      <th>support</th>\n",
       "      <th>itemsets</th>\n",
       "    </tr>\n",
       "  </thead>\n",
       "  <tbody>\n",
       "    <tr>\n",
       "      <td>0</td>\n",
       "      <td>0.0030</td>\n",
       "      <td>(SKU_29633)</td>\n",
       "    </tr>\n",
       "    <tr>\n",
       "      <td>1</td>\n",
       "      <td>0.0017</td>\n",
       "      <td>(SKU_29951)</td>\n",
       "    </tr>\n",
       "    <tr>\n",
       "      <td>2</td>\n",
       "      <td>0.0044</td>\n",
       "      <td>(SKU_68086)</td>\n",
       "    </tr>\n",
       "    <tr>\n",
       "      <td>3</td>\n",
       "      <td>0.0037</td>\n",
       "      <td>(SKU_106343)</td>\n",
       "    </tr>\n",
       "    <tr>\n",
       "      <td>4</td>\n",
       "      <td>0.0055</td>\n",
       "      <td>(SKU_108507)</td>\n",
       "    </tr>\n",
       "    <tr>\n",
       "      <td>...</td>\n",
       "      <td>...</td>\n",
       "      <td>...</td>\n",
       "    </tr>\n",
       "    <tr>\n",
       "      <td>523</td>\n",
       "      <td>0.0010</td>\n",
       "      <td>(SKU_3908011, SKU_2726578, SKU_3998011)</td>\n",
       "    </tr>\n",
       "    <tr>\n",
       "      <td>524</td>\n",
       "      <td>0.0027</td>\n",
       "      <td>(SKU_3898011, SKU_3978011, SKU_3524026)</td>\n",
       "    </tr>\n",
       "    <tr>\n",
       "      <td>525</td>\n",
       "      <td>0.0016</td>\n",
       "      <td>(SKU_3968011, SKU_3898011, SKU_3690654)</td>\n",
       "    </tr>\n",
       "    <tr>\n",
       "      <td>526</td>\n",
       "      <td>0.0011</td>\n",
       "      <td>(SKU_4440924, SKU_3898011, SKU_3968011)</td>\n",
       "    </tr>\n",
       "    <tr>\n",
       "      <td>527</td>\n",
       "      <td>0.0006</td>\n",
       "      <td>(SKU_6318344, SKU_4108011, SKU_3978011)</td>\n",
       "    </tr>\n",
       "  </tbody>\n",
       "</table>\n",
       "<p>528 rows × 2 columns</p>\n",
       "</div>"
      ],
      "text/plain": [
       "     support                                 itemsets\n",
       "0     0.0030                              (SKU_29633)\n",
       "1     0.0017                              (SKU_29951)\n",
       "2     0.0044                              (SKU_68086)\n",
       "3     0.0037                             (SKU_106343)\n",
       "4     0.0055                             (SKU_108507)\n",
       "..       ...                                      ...\n",
       "523   0.0010  (SKU_3908011, SKU_2726578, SKU_3998011)\n",
       "524   0.0027  (SKU_3898011, SKU_3978011, SKU_3524026)\n",
       "525   0.0016  (SKU_3968011, SKU_3898011, SKU_3690654)\n",
       "526   0.0011  (SKU_4440924, SKU_3898011, SKU_3968011)\n",
       "527   0.0006  (SKU_6318344, SKU_4108011, SKU_3978011)\n",
       "\n",
       "[528 rows x 2 columns]"
      ]
     },
     "execution_count": 141,
     "metadata": {},
     "output_type": "execute_result"
    }
   ],
   "source": [
    "FreqItems = apriori(ForApriori, min_support = 0.0005, use_colnames=True)\n",
    "FreqItems.to_csv(\"data/FreqItems.csv\", index = False)\n",
    "FreqItems"
   ]
  },
  {
   "cell_type": "code",
   "execution_count": 142,
   "metadata": {},
   "outputs": [
    {
     "data": {
      "text/html": [
       "<div>\n",
       "<style scoped>\n",
       "    .dataframe tbody tr th:only-of-type {\n",
       "        vertical-align: middle;\n",
       "    }\n",
       "\n",
       "    .dataframe tbody tr th {\n",
       "        vertical-align: top;\n",
       "    }\n",
       "\n",
       "    .dataframe thead th {\n",
       "        text-align: right;\n",
       "    }\n",
       "</style>\n",
       "<table border=\"1\" class=\"dataframe\">\n",
       "  <thead>\n",
       "    <tr style=\"text-align: right;\">\n",
       "      <th></th>\n",
       "      <th>antecedents</th>\n",
       "      <th>consequents</th>\n",
       "      <th>antecedent support</th>\n",
       "      <th>consequent support</th>\n",
       "      <th>support</th>\n",
       "      <th>confidence</th>\n",
       "      <th>lift</th>\n",
       "      <th>leverage</th>\n",
       "      <th>conviction</th>\n",
       "    </tr>\n",
       "  </thead>\n",
       "  <tbody>\n",
       "    <tr>\n",
       "      <td>0</td>\n",
       "      <td>(SKU_7351914)</td>\n",
       "      <td>(SKU_4472217)</td>\n",
       "      <td>0.0074</td>\n",
       "      <td>0.0015</td>\n",
       "      <td>0.0014</td>\n",
       "      <td>0.1906</td>\n",
       "      <td>123.3984</td>\n",
       "      <td>0.0014</td>\n",
       "      <td>1.2335</td>\n",
       "    </tr>\n",
       "    <tr>\n",
       "      <td>1</td>\n",
       "      <td>(SKU_4472217)</td>\n",
       "      <td>(SKU_7351914)</td>\n",
       "      <td>0.0015</td>\n",
       "      <td>0.0074</td>\n",
       "      <td>0.0014</td>\n",
       "      <td>0.9182</td>\n",
       "      <td>123.3984</td>\n",
       "      <td>0.0014</td>\n",
       "      <td>12.1313</td>\n",
       "    </tr>\n",
       "    <tr>\n",
       "      <td>2</td>\n",
       "      <td>(SKU_3908011)</td>\n",
       "      <td>(SKU_2716578, SKU_3988011)</td>\n",
       "      <td>0.0062</td>\n",
       "      <td>0.0023</td>\n",
       "      <td>0.0012</td>\n",
       "      <td>0.1941</td>\n",
       "      <td>84.8328</td>\n",
       "      <td>0.0012</td>\n",
       "      <td>1.2381</td>\n",
       "    </tr>\n",
       "    <tr>\n",
       "      <td>3</td>\n",
       "      <td>(SKU_2716578, SKU_3988011)</td>\n",
       "      <td>(SKU_3908011)</td>\n",
       "      <td>0.0023</td>\n",
       "      <td>0.0062</td>\n",
       "      <td>0.0012</td>\n",
       "      <td>0.5276</td>\n",
       "      <td>84.8328</td>\n",
       "      <td>0.0012</td>\n",
       "      <td>2.1037</td>\n",
       "    </tr>\n",
       "    <tr>\n",
       "      <td>4</td>\n",
       "      <td>(SKU_3988011)</td>\n",
       "      <td>(SKU_3908011, SKU_2716578)</td>\n",
       "      <td>0.0088</td>\n",
       "      <td>0.0017</td>\n",
       "      <td>0.0012</td>\n",
       "      <td>0.1365</td>\n",
       "      <td>81.0277</td>\n",
       "      <td>0.0012</td>\n",
       "      <td>1.1561</td>\n",
       "    </tr>\n",
       "    <tr>\n",
       "      <td>...</td>\n",
       "      <td>...</td>\n",
       "      <td>...</td>\n",
       "      <td>...</td>\n",
       "      <td>...</td>\n",
       "      <td>...</td>\n",
       "      <td>...</td>\n",
       "      <td>...</td>\n",
       "      <td>...</td>\n",
       "      <td>...</td>\n",
       "    </tr>\n",
       "    <tr>\n",
       "      <td>327</td>\n",
       "      <td>(SKU_3978011)</td>\n",
       "      <td>(SKU_7808101)</td>\n",
       "      <td>0.0422</td>\n",
       "      <td>0.0147</td>\n",
       "      <td>0.0010</td>\n",
       "      <td>0.0243</td>\n",
       "      <td>1.6501</td>\n",
       "      <td>0.0004</td>\n",
       "      <td>1.0098</td>\n",
       "    </tr>\n",
       "    <tr>\n",
       "      <td>328</td>\n",
       "      <td>(SKU_1832285)</td>\n",
       "      <td>(SKU_3868338)</td>\n",
       "      <td>0.0217</td>\n",
       "      <td>0.0183</td>\n",
       "      <td>0.0006</td>\n",
       "      <td>0.0285</td>\n",
       "      <td>1.5588</td>\n",
       "      <td>0.0002</td>\n",
       "      <td>1.0105</td>\n",
       "    </tr>\n",
       "    <tr>\n",
       "      <td>329</td>\n",
       "      <td>(SKU_3868338)</td>\n",
       "      <td>(SKU_1832285)</td>\n",
       "      <td>0.0183</td>\n",
       "      <td>0.0217</td>\n",
       "      <td>0.0006</td>\n",
       "      <td>0.0338</td>\n",
       "      <td>1.5588</td>\n",
       "      <td>0.0002</td>\n",
       "      <td>1.0125</td>\n",
       "    </tr>\n",
       "    <tr>\n",
       "      <td>330</td>\n",
       "      <td>(SKU_3559555)</td>\n",
       "      <td>(SKU_3524026)</td>\n",
       "      <td>0.0177</td>\n",
       "      <td>0.0330</td>\n",
       "      <td>0.0009</td>\n",
       "      <td>0.0498</td>\n",
       "      <td>1.5081</td>\n",
       "      <td>0.0003</td>\n",
       "      <td>1.0177</td>\n",
       "    </tr>\n",
       "    <tr>\n",
       "      <td>331</td>\n",
       "      <td>(SKU_3524026)</td>\n",
       "      <td>(SKU_3559555)</td>\n",
       "      <td>0.0330</td>\n",
       "      <td>0.0177</td>\n",
       "      <td>0.0009</td>\n",
       "      <td>0.0268</td>\n",
       "      <td>1.5081</td>\n",
       "      <td>0.0003</td>\n",
       "      <td>1.0093</td>\n",
       "    </tr>\n",
       "  </tbody>\n",
       "</table>\n",
       "<p>332 rows × 9 columns</p>\n",
       "</div>"
      ],
      "text/plain": [
       "                    antecedents                 consequents  \\\n",
       "0                 (SKU_7351914)               (SKU_4472217)   \n",
       "1                 (SKU_4472217)               (SKU_7351914)   \n",
       "2                 (SKU_3908011)  (SKU_2716578, SKU_3988011)   \n",
       "3    (SKU_2716578, SKU_3988011)               (SKU_3908011)   \n",
       "4                 (SKU_3988011)  (SKU_3908011, SKU_2716578)   \n",
       "..                          ...                         ...   \n",
       "327               (SKU_3978011)               (SKU_7808101)   \n",
       "328               (SKU_1832285)               (SKU_3868338)   \n",
       "329               (SKU_3868338)               (SKU_1832285)   \n",
       "330               (SKU_3559555)               (SKU_3524026)   \n",
       "331               (SKU_3524026)               (SKU_3559555)   \n",
       "\n",
       "     antecedent support  consequent support  support  confidence     lift  \\\n",
       "0                0.0074              0.0015   0.0014      0.1906 123.3984   \n",
       "1                0.0015              0.0074   0.0014      0.9182 123.3984   \n",
       "2                0.0062              0.0023   0.0012      0.1941  84.8328   \n",
       "3                0.0023              0.0062   0.0012      0.5276  84.8328   \n",
       "4                0.0088              0.0017   0.0012      0.1365  81.0277   \n",
       "..                  ...                 ...      ...         ...      ...   \n",
       "327              0.0422              0.0147   0.0010      0.0243   1.6501   \n",
       "328              0.0217              0.0183   0.0006      0.0285   1.5588   \n",
       "329              0.0183              0.0217   0.0006      0.0338   1.5588   \n",
       "330              0.0177              0.0330   0.0009      0.0498   1.5081   \n",
       "331              0.0330              0.0177   0.0009      0.0268   1.5081   \n",
       "\n",
       "     leverage  conviction  \n",
       "0      0.0014      1.2335  \n",
       "1      0.0014     12.1313  \n",
       "2      0.0012      1.2381  \n",
       "3      0.0012      2.1037  \n",
       "4      0.0012      1.1561  \n",
       "..        ...         ...  \n",
       "327    0.0004      1.0098  \n",
       "328    0.0002      1.0105  \n",
       "329    0.0002      1.0125  \n",
       "330    0.0003      1.0177  \n",
       "331    0.0003      1.0093  \n",
       "\n",
       "[332 rows x 9 columns]"
      ]
     },
     "execution_count": 142,
     "metadata": {},
     "output_type": "execute_result"
    }
   ],
   "source": [
    "AssocRules = association_rules(FreqItems, metric =\"lift\", min_threshold = 1.5).sort_values(\"lift\", ascending = False).reset_index(drop = True)\n",
    "AssocRules"
   ]
  },
  {
   "cell_type": "code",
   "execution_count": 143,
   "metadata": {},
   "outputs": [],
   "source": [
    "AssocRules = AssocRules[AssocRules[\"confidence\"] >= 0.01]"
   ]
  },
  {
   "cell_type": "code",
   "execution_count": 144,
   "metadata": {},
   "outputs": [],
   "source": [
    "AssocRules.to_csv(\"data/AssocRules.csv\", index = False)"
   ]
  },
  {
   "cell_type": "markdown",
   "metadata": {},
   "source": [
    "------"
   ]
  },
  {
   "cell_type": "markdown",
   "metadata": {},
   "source": [
    "# <u> 4. Insight & Discussion</u>\n",
    "## <i> 4.1. Interpreting Basic Features of Created Rules</i>"
   ]
  },
  {
   "cell_type": "code",
   "execution_count": 145,
   "metadata": {},
   "outputs": [
    {
     "name": "stdout",
     "output_type": "stream",
     "text": [
      "What is the shape of the data?\n",
      "(332, 9)\n",
      "========\n",
      "Is there any missing data?\n",
      "antecedents           0\n",
      "consequents           0\n",
      "antecedent support    0\n",
      "consequent support    0\n",
      "support               0\n",
      "confidence            0\n",
      "lift                  0\n",
      "leverage              0\n",
      "conviction            0\n",
      "dtype: int64\n",
      "========\n",
      "What is the distribution of data?\n",
      "       antecedent support  consequent support  support  confidence     lift  \\\n",
      "count            332.0000            332.0000 332.0000    332.0000 332.0000   \n",
      "mean               0.0160              0.0160   0.0011      0.1186  12.5506   \n",
      "std                0.0114              0.0114   0.0009      0.1376  17.7041   \n",
      "min                0.0011              0.0011   0.0005      0.0133   1.5081   \n",
      "25%                0.0068              0.0068   0.0006      0.0421   2.5959   \n",
      "50%                0.0123              0.0123   0.0008      0.0783   5.4921   \n",
      "75%                0.0213              0.0213   0.0013      0.1367  13.7747   \n",
      "max                0.0422              0.0422   0.0060      0.9182 123.3984   \n",
      "\n",
      "       leverage  conviction  \n",
      "count  332.0000    332.0000  \n",
      "mean     0.0009      1.2036  \n",
      "std      0.0008      0.7419  \n",
      "min      0.0002      1.0069  \n",
      "25%      0.0004      1.0269  \n",
      "50%      0.0006      1.0641  \n",
      "75%      0.0010      1.1434  \n",
      "max      0.0046     12.1313  \n",
      "========\n",
      "What is number of unique values of each column of data?\n",
      "Number of unique values of antecedents column: 103\n",
      "Number of unique values of consequents column: 103\n",
      "Number of unique values of antecedent support column: 99\n",
      "Number of unique values of consequent support column: 99\n",
      "Number of unique values of support column: 74\n",
      "Number of unique values of confidence column: 313\n",
      "Number of unique values of lift column: 231\n",
      "Number of unique values of leverage column: 166\n",
      "Number of unique values of conviction column: 332\n"
     ]
    }
   ],
   "source": [
    "structure_checker(AssocRules)"
   ]
  },
  {
   "cell_type": "markdown",
   "metadata": {},
   "source": [
    "## <i> 4.2. Identifying what SKUs to Move & where to move those SKUs</i>"
   ]
  },
  {
   "cell_type": "code",
   "execution_count": 146,
   "metadata": {},
   "outputs": [
    {
     "data": {
      "text/html": [
       "<div>\n",
       "<style scoped>\n",
       "    .dataframe tbody tr th:only-of-type {\n",
       "        vertical-align: middle;\n",
       "    }\n",
       "\n",
       "    .dataframe tbody tr th {\n",
       "        vertical-align: top;\n",
       "    }\n",
       "\n",
       "    .dataframe thead th {\n",
       "        text-align: right;\n",
       "    }\n",
       "</style>\n",
       "<table border=\"1\" class=\"dataframe\">\n",
       "  <thead>\n",
       "    <tr style=\"text-align: right;\">\n",
       "      <th></th>\n",
       "      <th>SKU</th>\n",
       "      <th>DEPT</th>\n",
       "      <th>CLASSID</th>\n",
       "      <th>UPC</th>\n",
       "      <th>STYLE</th>\n",
       "      <th>COLOR</th>\n",
       "      <th>SIZE</th>\n",
       "      <th>PACKSIZE</th>\n",
       "      <th>VENDOR</th>\n",
       "      <th>BRAND</th>\n",
       "      <th>DEPTDESC</th>\n",
       "    </tr>\n",
       "  </thead>\n",
       "  <tbody>\n",
       "    <tr>\n",
       "      <td>0</td>\n",
       "      <td>3662367</td>\n",
       "      <td>4505</td>\n",
       "      <td>207</td>\n",
       "      <td>400002367366</td>\n",
       "      <td>4AZ   796509</td>\n",
       "      <td>BLUE/YELLO</td>\n",
       "      <td>XL</td>\n",
       "      <td>1</td>\n",
       "      <td>5715232</td>\n",
       "      <td>POLO FAS</td>\n",
       "      <td>POLOMEN</td>\n",
       "    </tr>\n",
       "    <tr>\n",
       "      <td>1</td>\n",
       "      <td>6533600</td>\n",
       "      <td>4505</td>\n",
       "      <td>107</td>\n",
       "      <td>400003600653</td>\n",
       "      <td>1A    796771</td>\n",
       "      <td>NAVY</td>\n",
       "      <td>XL</td>\n",
       "      <td>1</td>\n",
       "      <td>5715232</td>\n",
       "      <td>POLO FAS</td>\n",
       "      <td>POLOMEN</td>\n",
       "    </tr>\n",
       "    <tr>\n",
       "      <td>2</td>\n",
       "      <td>2883090</td>\n",
       "      <td>1202</td>\n",
       "      <td>302</td>\n",
       "      <td>400003090288</td>\n",
       "      <td>R314</td>\n",
       "      <td>ZE/SAND</td>\n",
       "      <td>6</td>\n",
       "      <td>1</td>\n",
       "      <td>2012863</td>\n",
       "      <td>CABERNET</td>\n",
       "      <td>CABERN</td>\n",
       "    </tr>\n",
       "    <tr>\n",
       "      <td>3</td>\n",
       "      <td>4356618</td>\n",
       "      <td>1202</td>\n",
       "      <td>402</td>\n",
       "      <td>400006618435</td>\n",
       "      <td>12D028</td>\n",
       "      <td>WHITE CABE</td>\n",
       "      <td>M</td>\n",
       "      <td>1</td>\n",
       "      <td>313319</td>\n",
       "      <td>CABERNET</td>\n",
       "      <td>CABERN</td>\n",
       "    </tr>\n",
       "    <tr>\n",
       "      <td>4</td>\n",
       "      <td>5109905</td>\n",
       "      <td>1202</td>\n",
       "      <td>201</td>\n",
       "      <td>400009905510</td>\n",
       "      <td>75415</td>\n",
       "      <td>BEIGE</td>\n",
       "      <td>7</td>\n",
       "      <td>3</td>\n",
       "      <td>3626213</td>\n",
       "      <td>MILCO IN</td>\n",
       "      <td>CABERN</td>\n",
       "    </tr>\n",
       "  </tbody>\n",
       "</table>\n",
       "</div>"
      ],
      "text/plain": [
       "       SKU  DEPT  CLASSID           UPC         STYLE         COLOR  \\\n",
       "0  3662367  4505      207  400002367366  4AZ   796509  BLUE/YELLO     \n",
       "1  6533600  4505      107  400003600653  1A    796771  NAVY           \n",
       "2  2883090  1202      302  400003090288        R314    ZE/SAND        \n",
       "3  4356618  1202      402  400006618435        12D028  WHITE CABE     \n",
       "4  5109905  1202      201  400009905510        75415   BEIGE          \n",
       "\n",
       "         SIZE  PACKSIZE   VENDOR      BRAND  DEPTDESC  \n",
       "0  XL                 1  5715232  POLO FAS   POLOMEN   \n",
       "1  XL                 1  5715232  POLO FAS   POLOMEN   \n",
       "2  6                  1  2012863  CABERNET   CABERN    \n",
       "3  M                  1   313319  CABERNET   CABERN    \n",
       "4  7                  3  3626213  MILCO IN   CABERN    "
      ]
     },
     "execution_count": 146,
     "metadata": {},
     "output_type": "execute_result"
    }
   ],
   "source": [
    "filtered_sku_deptinfo = pd.read_csv(\"data/Dillards POS/sku_deptinfo_labelled_filtered.csv\")\n",
    "filtered_sku_deptinfo.head()"
   ]
  },
  {
   "cell_type": "code",
   "execution_count": 147,
   "metadata": {},
   "outputs": [
    {
     "name": "stdout",
     "output_type": "stream",
     "text": [
      "102 cases where products in antecedents and consequents were not in the same floor\n"
     ]
    }
   ],
   "source": [
    "counter = 0 \n",
    "pos_difference = [] # saves SKUs where CLASSID or DEPT do not match and CLASSID related to thsoe SKUs. \n",
    "for index, row in AssocRules.iterrows():\n",
    "    antecedents = list(row[\"antecedents\"]) \n",
    "    consequents = list(row[\"consequents\"])\n",
    "    total = antecedents+consequents\n",
    "    total_cleaned = [int(x.replace(\"SKU_\", \"\")) for x in total]\n",
    "    if filtered_sku_deptinfo[filtered_sku_deptinfo[\"SKU\"].isin(total_cleaned)][\"DEPT\"].nunique() != 1 :\n",
    "        print(\"different DEPT\")\n",
    "    if filtered_sku_deptinfo[filtered_sku_deptinfo[\"SKU\"].isin(total_cleaned)][\"CLASSID\"].nunique() != 1 :\n",
    "        counter += 1\n",
    "        SKU_loc = [] \n",
    "        for each_sku in total_cleaned:  \n",
    "            SKU_loc.append(filtered_sku_deptinfo[filtered_sku_deptinfo[\"SKU\"] == each_sku][\"CLASSID\"].iloc[0])\n",
    "        pos_difference.append([total_cleaned, SKU_loc])\n",
    "print(str(counter)+ \" cases where products in antecedents and consequents were not in the same floor\")"
   ]
  },
  {
   "cell_type": "code",
   "execution_count": 148,
   "metadata": {},
   "outputs": [
    {
     "data": {
      "text/html": [
       "<div>\n",
       "<style scoped>\n",
       "    .dataframe tbody tr th:only-of-type {\n",
       "        vertical-align: middle;\n",
       "    }\n",
       "\n",
       "    .dataframe tbody tr th {\n",
       "        vertical-align: top;\n",
       "    }\n",
       "\n",
       "    .dataframe thead th {\n",
       "        text-align: right;\n",
       "    }\n",
       "</style>\n",
       "<table border=\"1\" class=\"dataframe\">\n",
       "  <thead>\n",
       "    <tr style=\"text-align: right;\">\n",
       "      <th></th>\n",
       "      <th>0</th>\n",
       "      <th>1</th>\n",
       "    </tr>\n",
       "  </thead>\n",
       "  <tbody>\n",
       "    <tr>\n",
       "      <td>0</td>\n",
       "      <td>[1400555, 108507]</td>\n",
       "      <td>[2, 7]</td>\n",
       "    </tr>\n",
       "    <tr>\n",
       "      <td>1</td>\n",
       "      <td>[108507, 1400555]</td>\n",
       "      <td>[7, 2]</td>\n",
       "    </tr>\n",
       "    <tr>\n",
       "      <td>2</td>\n",
       "      <td>[1206132, 8718362]</td>\n",
       "      <td>[6, 1]</td>\n",
       "    </tr>\n",
       "    <tr>\n",
       "      <td>3</td>\n",
       "      <td>[8718362, 1206132]</td>\n",
       "      <td>[1, 6]</td>\n",
       "    </tr>\n",
       "    <tr>\n",
       "      <td>4</td>\n",
       "      <td>[3611367, 2716578]</td>\n",
       "      <td>[2, 1]</td>\n",
       "    </tr>\n",
       "    <tr>\n",
       "      <td>...</td>\n",
       "      <td>...</td>\n",
       "      <td>...</td>\n",
       "    </tr>\n",
       "    <tr>\n",
       "      <td>97</td>\n",
       "      <td>[803921, 4108011]</td>\n",
       "      <td>[2, 1]</td>\n",
       "    </tr>\n",
       "    <tr>\n",
       "      <td>98</td>\n",
       "      <td>[7808101, 3978011]</td>\n",
       "      <td>[2, 1]</td>\n",
       "    </tr>\n",
       "    <tr>\n",
       "      <td>99</td>\n",
       "      <td>[3978011, 7808101]</td>\n",
       "      <td>[1, 2]</td>\n",
       "    </tr>\n",
       "    <tr>\n",
       "      <td>100</td>\n",
       "      <td>[3559555, 3524026]</td>\n",
       "      <td>[2, 1]</td>\n",
       "    </tr>\n",
       "    <tr>\n",
       "      <td>101</td>\n",
       "      <td>[3524026, 3559555]</td>\n",
       "      <td>[1, 2]</td>\n",
       "    </tr>\n",
       "  </tbody>\n",
       "</table>\n",
       "<p>102 rows × 2 columns</p>\n",
       "</div>"
      ],
      "text/plain": [
       "                      0       1\n",
       "0     [1400555, 108507]  [2, 7]\n",
       "1     [108507, 1400555]  [7, 2]\n",
       "2    [1206132, 8718362]  [6, 1]\n",
       "3    [8718362, 1206132]  [1, 6]\n",
       "4    [3611367, 2716578]  [2, 1]\n",
       "..                  ...     ...\n",
       "97    [803921, 4108011]  [2, 1]\n",
       "98   [7808101, 3978011]  [2, 1]\n",
       "99   [3978011, 7808101]  [1, 2]\n",
       "100  [3559555, 3524026]  [2, 1]\n",
       "101  [3524026, 3559555]  [1, 2]\n",
       "\n",
       "[102 rows x 2 columns]"
      ]
     },
     "execution_count": 148,
     "metadata": {},
     "output_type": "execute_result"
    }
   ],
   "source": [
    "pd.DataFrame(pos_difference)"
   ]
  },
  {
   "cell_type": "code",
   "execution_count": 149,
   "metadata": {},
   "outputs": [],
   "source": [
    "which_SKU_to_WHERE = [] \n",
    "for pos, val in enumerate(pos_difference): \n",
    "    which_SKU_to_WHERE.append([val[0][0], val[1][1]])\n",
    "    which_SKU_to_WHERE.append([val[0][1], val[1][0]])"
   ]
  },
  {
   "cell_type": "code",
   "execution_count": 150,
   "metadata": {},
   "outputs": [
    {
     "data": {
      "text/html": [
       "<div>\n",
       "<style scoped>\n",
       "    .dataframe tbody tr th:only-of-type {\n",
       "        vertical-align: middle;\n",
       "    }\n",
       "\n",
       "    .dataframe tbody tr th {\n",
       "        vertical-align: top;\n",
       "    }\n",
       "\n",
       "    .dataframe thead th {\n",
       "        text-align: right;\n",
       "    }\n",
       "</style>\n",
       "<table border=\"1\" class=\"dataframe\">\n",
       "  <thead>\n",
       "    <tr style=\"text-align: right;\">\n",
       "      <th></th>\n",
       "      <th>SKU</th>\n",
       "      <th>TO WHERE</th>\n",
       "    </tr>\n",
       "  </thead>\n",
       "  <tbody>\n",
       "    <tr>\n",
       "      <td>0</td>\n",
       "      <td>108507</td>\n",
       "      <td>2</td>\n",
       "    </tr>\n",
       "    <tr>\n",
       "      <td>1</td>\n",
       "      <td>264715</td>\n",
       "      <td>1</td>\n",
       "    </tr>\n",
       "    <tr>\n",
       "      <td>2</td>\n",
       "      <td>348498</td>\n",
       "      <td>1</td>\n",
       "    </tr>\n",
       "    <tr>\n",
       "      <td>3</td>\n",
       "      <td>726718</td>\n",
       "      <td>1</td>\n",
       "    </tr>\n",
       "    <tr>\n",
       "      <td>4</td>\n",
       "      <td>803921</td>\n",
       "      <td>1</td>\n",
       "    </tr>\n",
       "    <tr>\n",
       "      <td>5</td>\n",
       "      <td>1206132</td>\n",
       "      <td>1</td>\n",
       "    </tr>\n",
       "    <tr>\n",
       "      <td>6</td>\n",
       "      <td>1400555</td>\n",
       "      <td>7</td>\n",
       "    </tr>\n",
       "    <tr>\n",
       "      <td>7</td>\n",
       "      <td>2716578</td>\n",
       "      <td>2</td>\n",
       "    </tr>\n",
       "    <tr>\n",
       "      <td>8</td>\n",
       "      <td>2726578</td>\n",
       "      <td>2</td>\n",
       "    </tr>\n",
       "    <tr>\n",
       "      <td>9</td>\n",
       "      <td>2783996</td>\n",
       "      <td>1</td>\n",
       "    </tr>\n",
       "    <tr>\n",
       "      <td>10</td>\n",
       "      <td>3013129</td>\n",
       "      <td>1</td>\n",
       "    </tr>\n",
       "    <tr>\n",
       "      <td>11</td>\n",
       "      <td>3524026</td>\n",
       "      <td>2</td>\n",
       "    </tr>\n",
       "    <tr>\n",
       "      <td>12</td>\n",
       "      <td>3559555</td>\n",
       "      <td>1</td>\n",
       "    </tr>\n",
       "    <tr>\n",
       "      <td>13</td>\n",
       "      <td>3582465</td>\n",
       "      <td>1</td>\n",
       "    </tr>\n",
       "    <tr>\n",
       "      <td>14</td>\n",
       "      <td>3611367</td>\n",
       "      <td>1</td>\n",
       "    </tr>\n",
       "    <tr>\n",
       "      <td>15</td>\n",
       "      <td>3631365</td>\n",
       "      <td>1</td>\n",
       "    </tr>\n",
       "    <tr>\n",
       "      <td>16</td>\n",
       "      <td>3690654</td>\n",
       "      <td>2</td>\n",
       "    </tr>\n",
       "    <tr>\n",
       "      <td>17</td>\n",
       "      <td>3898011</td>\n",
       "      <td>2</td>\n",
       "    </tr>\n",
       "    <tr>\n",
       "      <td>18</td>\n",
       "      <td>3968011</td>\n",
       "      <td>2</td>\n",
       "    </tr>\n",
       "    <tr>\n",
       "      <td>19</td>\n",
       "      <td>3978011</td>\n",
       "      <td>2</td>\n",
       "    </tr>\n",
       "    <tr>\n",
       "      <td>20</td>\n",
       "      <td>3998011</td>\n",
       "      <td>2</td>\n",
       "    </tr>\n",
       "    <tr>\n",
       "      <td>21</td>\n",
       "      <td>4108011</td>\n",
       "      <td>2</td>\n",
       "    </tr>\n",
       "    <tr>\n",
       "      <td>22</td>\n",
       "      <td>4112626</td>\n",
       "      <td>1</td>\n",
       "    </tr>\n",
       "    <tr>\n",
       "      <td>23</td>\n",
       "      <td>5079809</td>\n",
       "      <td>1</td>\n",
       "    </tr>\n",
       "    <tr>\n",
       "      <td>24</td>\n",
       "      <td>5528349</td>\n",
       "      <td>1</td>\n",
       "    </tr>\n",
       "    <tr>\n",
       "      <td>25</td>\n",
       "      <td>5528349</td>\n",
       "      <td>4</td>\n",
       "    </tr>\n",
       "    <tr>\n",
       "      <td>26</td>\n",
       "      <td>5928099</td>\n",
       "      <td>6</td>\n",
       "    </tr>\n",
       "    <tr>\n",
       "      <td>27</td>\n",
       "      <td>6318344</td>\n",
       "      <td>2</td>\n",
       "    </tr>\n",
       "    <tr>\n",
       "      <td>28</td>\n",
       "      <td>7064350</td>\n",
       "      <td>1</td>\n",
       "    </tr>\n",
       "    <tr>\n",
       "      <td>29</td>\n",
       "      <td>7261032</td>\n",
       "      <td>1</td>\n",
       "    </tr>\n",
       "    <tr>\n",
       "      <td>30</td>\n",
       "      <td>7808101</td>\n",
       "      <td>1</td>\n",
       "    </tr>\n",
       "    <tr>\n",
       "      <td>31</td>\n",
       "      <td>8618636</td>\n",
       "      <td>1</td>\n",
       "    </tr>\n",
       "    <tr>\n",
       "      <td>32</td>\n",
       "      <td>8718362</td>\n",
       "      <td>6</td>\n",
       "    </tr>\n",
       "    <tr>\n",
       "      <td>33</td>\n",
       "      <td>9402188</td>\n",
       "      <td>1</td>\n",
       "    </tr>\n",
       "    <tr>\n",
       "      <td>34</td>\n",
       "      <td>9526376</td>\n",
       "      <td>1</td>\n",
       "    </tr>\n",
       "    <tr>\n",
       "      <td>35</td>\n",
       "      <td>9594893</td>\n",
       "      <td>1</td>\n",
       "    </tr>\n",
       "  </tbody>\n",
       "</table>\n",
       "</div>"
      ],
      "text/plain": [
       "        SKU  TO WHERE\n",
       "0    108507         2\n",
       "1    264715         1\n",
       "2    348498         1\n",
       "3    726718         1\n",
       "4    803921         1\n",
       "5   1206132         1\n",
       "6   1400555         7\n",
       "7   2716578         2\n",
       "8   2726578         2\n",
       "9   2783996         1\n",
       "10  3013129         1\n",
       "11  3524026         2\n",
       "12  3559555         1\n",
       "13  3582465         1\n",
       "14  3611367         1\n",
       "15  3631365         1\n",
       "16  3690654         2\n",
       "17  3898011         2\n",
       "18  3968011         2\n",
       "19  3978011         2\n",
       "20  3998011         2\n",
       "21  4108011         2\n",
       "22  4112626         1\n",
       "23  5079809         1\n",
       "24  5528349         1\n",
       "25  5528349         4\n",
       "26  5928099         6\n",
       "27  6318344         2\n",
       "28  7064350         1\n",
       "29  7261032         1\n",
       "30  7808101         1\n",
       "31  8618636         1\n",
       "32  8718362         6\n",
       "33  9402188         1\n",
       "34  9526376         1\n",
       "35  9594893         1"
      ]
     },
     "execution_count": 150,
     "metadata": {},
     "output_type": "execute_result"
    }
   ],
   "source": [
    "which_SKU_to_WHERE = pd.DataFrame(which_SKU_to_WHERE)\n",
    "which_SKU_to_WHERE.columns = [\"SKU\", \"TO WHERE\"]\n",
    "which_SKU_to_WHERE = pd.DataFrame(which_SKU_to_WHERE.groupby([\"SKU\", \"TO WHERE\"]).size())\n",
    "del which_SKU_to_WHERE[0]\n",
    "which_SKU_to_WHERE = which_SKU_to_WHERE.reset_index()\n",
    "which_SKU_to_WHERE"
   ]
  },
  {
   "cell_type": "markdown",
   "metadata": {},
   "source": [
    "## <i> 4.3. Finding Patterns among SKUs that were recommended for Rearrangements</i>"
   ]
  },
  {
   "cell_type": "code",
   "execution_count": 151,
   "metadata": {},
   "outputs": [
    {
     "data": {
      "text/html": [
       "<div>\n",
       "<style scoped>\n",
       "    .dataframe tbody tr th:only-of-type {\n",
       "        vertical-align: middle;\n",
       "    }\n",
       "\n",
       "    .dataframe tbody tr th {\n",
       "        vertical-align: top;\n",
       "    }\n",
       "\n",
       "    .dataframe thead th {\n",
       "        text-align: right;\n",
       "    }\n",
       "</style>\n",
       "<table border=\"1\" class=\"dataframe\">\n",
       "  <thead>\n",
       "    <tr style=\"text-align: right;\">\n",
       "      <th></th>\n",
       "      <th>SKU</th>\n",
       "      <th>TO WHERE</th>\n",
       "      <th>DEPT</th>\n",
       "      <th>CLASSID</th>\n",
       "      <th>UPC</th>\n",
       "      <th>STYLE</th>\n",
       "      <th>COLOR</th>\n",
       "      <th>SIZE</th>\n",
       "      <th>PACKSIZE</th>\n",
       "      <th>VENDOR</th>\n",
       "      <th>BRAND</th>\n",
       "      <th>DEPTDESC</th>\n",
       "    </tr>\n",
       "  </thead>\n",
       "  <tbody>\n",
       "    <tr>\n",
       "      <td>0</td>\n",
       "      <td>108507</td>\n",
       "      <td>2</td>\n",
       "      <td>800</td>\n",
       "      <td>7</td>\n",
       "      <td>400008507010</td>\n",
       "      <td>6CJ1</td>\n",
       "      <td>01LGT/MED</td>\n",
       "      <td>PM INS PER</td>\n",
       "      <td>3</td>\n",
       "      <td>5511283</td>\n",
       "      <td>CLINIQUE</td>\n",
       "      <td>CLINIQUE</td>\n",
       "    </tr>\n",
       "    <tr>\n",
       "      <td>1</td>\n",
       "      <td>264715</td>\n",
       "      <td>1</td>\n",
       "      <td>800</td>\n",
       "      <td>2</td>\n",
       "      <td>400004715026</td>\n",
       "      <td>67GF</td>\n",
       "      <td>TOTAL TURNAR</td>\n",
       "      <td>CREAM</td>\n",
       "      <td>3</td>\n",
       "      <td>5511283</td>\n",
       "      <td>CLINIQUE</td>\n",
       "      <td>CLINIQUE</td>\n",
       "    </tr>\n",
       "    <tr>\n",
       "      <td>2</td>\n",
       "      <td>348498</td>\n",
       "      <td>1</td>\n",
       "      <td>800</td>\n",
       "      <td>2</td>\n",
       "      <td>400008498034</td>\n",
       "      <td>6CEG</td>\n",
       "      <td>REPAIR NIGHT</td>\n",
       "      <td>1.7 CREAM</td>\n",
       "      <td>3</td>\n",
       "      <td>5511283</td>\n",
       "      <td>CLINIQUE</td>\n",
       "      <td>CLINIQUE</td>\n",
       "    </tr>\n",
       "    <tr>\n",
       "      <td>3</td>\n",
       "      <td>726718</td>\n",
       "      <td>1</td>\n",
       "      <td>800</td>\n",
       "      <td>2</td>\n",
       "      <td>400006718072</td>\n",
       "      <td>60MK01</td>\n",
       "      <td>TAKE DAY OFF</td>\n",
       "      <td>E M/U REMO</td>\n",
       "      <td>3</td>\n",
       "      <td>5511283</td>\n",
       "      <td>CLINIQUE</td>\n",
       "      <td>CLINIQUE</td>\n",
       "    </tr>\n",
       "    <tr>\n",
       "      <td>4</td>\n",
       "      <td>803921</td>\n",
       "      <td>1</td>\n",
       "      <td>800</td>\n",
       "      <td>2</td>\n",
       "      <td>400003921080</td>\n",
       "      <td>663E02</td>\n",
       "      <td>RINSE OFF</td>\n",
       "      <td>FOAM CLNSR</td>\n",
       "      <td>3</td>\n",
       "      <td>5511283</td>\n",
       "      <td>CLINIQUE</td>\n",
       "      <td>CLINIQUE</td>\n",
       "    </tr>\n",
       "    <tr>\n",
       "      <td>5</td>\n",
       "      <td>1206132</td>\n",
       "      <td>1</td>\n",
       "      <td>2200</td>\n",
       "      <td>6</td>\n",
       "      <td>400006132120</td>\n",
       "      <td>4406</td>\n",
       "      <td>01-BLACK</td>\n",
       "      <td>NO SIZE</td>\n",
       "      <td>3</td>\n",
       "      <td>113645</td>\n",
       "      <td>LANCOME</td>\n",
       "      <td>CELEBRT</td>\n",
       "    </tr>\n",
       "    <tr>\n",
       "      <td>6</td>\n",
       "      <td>1400555</td>\n",
       "      <td>7</td>\n",
       "      <td>800</td>\n",
       "      <td>2</td>\n",
       "      <td>400000555140</td>\n",
       "      <td>67NM</td>\n",
       "      <td>REF LOTION</td>\n",
       "      <td>NO SIZE</td>\n",
       "      <td>3</td>\n",
       "      <td>5511283</td>\n",
       "      <td>CLINIQUE</td>\n",
       "      <td>CLINIQUE</td>\n",
       "    </tr>\n",
       "    <tr>\n",
       "      <td>7</td>\n",
       "      <td>2716578</td>\n",
       "      <td>2</td>\n",
       "      <td>800</td>\n",
       "      <td>1</td>\n",
       "      <td>400006578271</td>\n",
       "      <td>6EM7</td>\n",
       "      <td>DDM GEL</td>\n",
       "      <td>1.7 OZ</td>\n",
       "      <td>3</td>\n",
       "      <td>5511283</td>\n",
       "      <td>CLINIQUE</td>\n",
       "      <td>CLINIQUE</td>\n",
       "    </tr>\n",
       "    <tr>\n",
       "      <td>8</td>\n",
       "      <td>2726578</td>\n",
       "      <td>2</td>\n",
       "      <td>800</td>\n",
       "      <td>1</td>\n",
       "      <td>400006578272</td>\n",
       "      <td>6EM6</td>\n",
       "      <td>DDM GEL</td>\n",
       "      <td>4.2 OZ</td>\n",
       "      <td>6</td>\n",
       "      <td>5511283</td>\n",
       "      <td>CLINIQUE</td>\n",
       "      <td>CLINIQUE</td>\n",
       "    </tr>\n",
       "    <tr>\n",
       "      <td>9</td>\n",
       "      <td>2783996</td>\n",
       "      <td>1</td>\n",
       "      <td>2200</td>\n",
       "      <td>6</td>\n",
       "      <td>400003996278</td>\n",
       "      <td>4408</td>\n",
       "      <td>01-BLACK</td>\n",
       "      <td>NO SIZE</td>\n",
       "      <td>3</td>\n",
       "      <td>113645</td>\n",
       "      <td>LANCOME</td>\n",
       "      <td>CELEBRT</td>\n",
       "    </tr>\n",
       "    <tr>\n",
       "      <td>10</td>\n",
       "      <td>3013129</td>\n",
       "      <td>1</td>\n",
       "      <td>800</td>\n",
       "      <td>2</td>\n",
       "      <td>400003129301</td>\n",
       "      <td>69NC</td>\n",
       "      <td>CLEANSER</td>\n",
       "      <td>.5 FL OZ</td>\n",
       "      <td>3</td>\n",
       "      <td>5511283</td>\n",
       "      <td>CLINIQUE</td>\n",
       "      <td>CLINIQUE</td>\n",
       "    </tr>\n",
       "    <tr>\n",
       "      <td>11</td>\n",
       "      <td>3524026</td>\n",
       "      <td>2</td>\n",
       "      <td>800</td>\n",
       "      <td>1</td>\n",
       "      <td>400004026352</td>\n",
       "      <td>68LE</td>\n",
       "      <td>DDML PUMP</td>\n",
       "      <td>4.2 OZ</td>\n",
       "      <td>6</td>\n",
       "      <td>5511283</td>\n",
       "      <td>CLINIQUE</td>\n",
       "      <td>CLINIQUE</td>\n",
       "    </tr>\n",
       "    <tr>\n",
       "      <td>12</td>\n",
       "      <td>3559555</td>\n",
       "      <td>1</td>\n",
       "      <td>800</td>\n",
       "      <td>2</td>\n",
       "      <td>400009555355</td>\n",
       "      <td>667H</td>\n",
       "      <td>7DAY SCRUB</td>\n",
       "      <td>RINSE OFF</td>\n",
       "      <td>3</td>\n",
       "      <td>5511283</td>\n",
       "      <td>CLINIQUE</td>\n",
       "      <td>CLINIQUE</td>\n",
       "    </tr>\n",
       "    <tr>\n",
       "      <td>13</td>\n",
       "      <td>3582465</td>\n",
       "      <td>1</td>\n",
       "      <td>800</td>\n",
       "      <td>2</td>\n",
       "      <td>400002465358</td>\n",
       "      <td>6A0Y</td>\n",
       "      <td>REPAIR DAY</td>\n",
       "      <td>CREAM</td>\n",
       "      <td>3</td>\n",
       "      <td>5511283</td>\n",
       "      <td>CLINIQUE</td>\n",
       "      <td>CLINIQUE</td>\n",
       "    </tr>\n",
       "    <tr>\n",
       "      <td>14</td>\n",
       "      <td>3611367</td>\n",
       "      <td>1</td>\n",
       "      <td>800</td>\n",
       "      <td>2</td>\n",
       "      <td>400001367361</td>\n",
       "      <td>62WR01</td>\n",
       "      <td>ANTI SOAP</td>\n",
       "      <td>5.2 OZ</td>\n",
       "      <td>3</td>\n",
       "      <td>5511283</td>\n",
       "      <td>CLINIQUE</td>\n",
       "      <td>CLINIQUE</td>\n",
       "    </tr>\n",
       "    <tr>\n",
       "      <td>15</td>\n",
       "      <td>3631365</td>\n",
       "      <td>1</td>\n",
       "      <td>800</td>\n",
       "      <td>2</td>\n",
       "      <td>400001365363</td>\n",
       "      <td>62WQ</td>\n",
       "      <td>CLEANSE FOAM</td>\n",
       "      <td>4.2 OZ</td>\n",
       "      <td>3</td>\n",
       "      <td>5511283</td>\n",
       "      <td>CLINIQUE</td>\n",
       "      <td>CLINIQUE</td>\n",
       "    </tr>\n",
       "    <tr>\n",
       "      <td>16</td>\n",
       "      <td>3690654</td>\n",
       "      <td>2</td>\n",
       "      <td>800</td>\n",
       "      <td>1</td>\n",
       "      <td>400000654369</td>\n",
       "      <td>68MG</td>\n",
       "      <td>DDML TUBE</td>\n",
       "      <td>DDML TUBE</td>\n",
       "      <td>3</td>\n",
       "      <td>5511283</td>\n",
       "      <td>CLINIQUE</td>\n",
       "      <td>CLINIQUE</td>\n",
       "    </tr>\n",
       "    <tr>\n",
       "      <td>17</td>\n",
       "      <td>3898011</td>\n",
       "      <td>2</td>\n",
       "      <td>800</td>\n",
       "      <td>1</td>\n",
       "      <td>400008011389</td>\n",
       "      <td>6101</td>\n",
       "      <td>MILD SOAP</td>\n",
       "      <td>W/DISH</td>\n",
       "      <td>6</td>\n",
       "      <td>5511283</td>\n",
       "      <td>CLINIQUE</td>\n",
       "      <td>CLINIQUE</td>\n",
       "    </tr>\n",
       "    <tr>\n",
       "      <td>18</td>\n",
       "      <td>3968011</td>\n",
       "      <td>2</td>\n",
       "      <td>800</td>\n",
       "      <td>1</td>\n",
       "      <td>400008011396</td>\n",
       "      <td>6120</td>\n",
       "      <td>CLARIFY</td>\n",
       "      <td>#2  6 OZ</td>\n",
       "      <td>3</td>\n",
       "      <td>5511283</td>\n",
       "      <td>CLINIQUE</td>\n",
       "      <td>CLINIQUE</td>\n",
       "    </tr>\n",
       "    <tr>\n",
       "      <td>19</td>\n",
       "      <td>3978011</td>\n",
       "      <td>2</td>\n",
       "      <td>800</td>\n",
       "      <td>1</td>\n",
       "      <td>400008011397</td>\n",
       "      <td>6121</td>\n",
       "      <td>CLARIFY</td>\n",
       "      <td>#2 13.5 OZ</td>\n",
       "      <td>3</td>\n",
       "      <td>5511283</td>\n",
       "      <td>CLINIQUE</td>\n",
       "      <td>CLINIQUE</td>\n",
       "    </tr>\n",
       "    <tr>\n",
       "      <td>20</td>\n",
       "      <td>3998011</td>\n",
       "      <td>2</td>\n",
       "      <td>800</td>\n",
       "      <td>1</td>\n",
       "      <td>400008011399</td>\n",
       "      <td>6126</td>\n",
       "      <td>CLARIFY</td>\n",
       "      <td>#3 12 OZ</td>\n",
       "      <td>3</td>\n",
       "      <td>5511283</td>\n",
       "      <td>CLINIQUE</td>\n",
       "      <td>CLINIQUE</td>\n",
       "    </tr>\n",
       "    <tr>\n",
       "      <td>21</td>\n",
       "      <td>4108011</td>\n",
       "      <td>2</td>\n",
       "      <td>800</td>\n",
       "      <td>1</td>\n",
       "      <td>400008011410</td>\n",
       "      <td>6142</td>\n",
       "      <td>DDML</td>\n",
       "      <td>DDML 4 OZ</td>\n",
       "      <td>6</td>\n",
       "      <td>5511283</td>\n",
       "      <td>CLINIQUE</td>\n",
       "      <td>CLINIQUE</td>\n",
       "    </tr>\n",
       "    <tr>\n",
       "      <td>22</td>\n",
       "      <td>4112626</td>\n",
       "      <td>1</td>\n",
       "      <td>800</td>\n",
       "      <td>2</td>\n",
       "      <td>400002626411</td>\n",
       "      <td>61EP</td>\n",
       "      <td>AA EYES</td>\n",
       "      <td>.5 OZ</td>\n",
       "      <td>3</td>\n",
       "      <td>5511283</td>\n",
       "      <td>CLINIQUE</td>\n",
       "      <td>CLINIQUE</td>\n",
       "    </tr>\n",
       "    <tr>\n",
       "      <td>23</td>\n",
       "      <td>5079809</td>\n",
       "      <td>1</td>\n",
       "      <td>800</td>\n",
       "      <td>2</td>\n",
       "      <td>400009809507</td>\n",
       "      <td>622U</td>\n",
       "      <td>MOIST/LINE</td>\n",
       "      <td>MOIST/LINE</td>\n",
       "      <td>2</td>\n",
       "      <td>5511283</td>\n",
       "      <td>CLINIQUE</td>\n",
       "      <td>CLINIQUE</td>\n",
       "    </tr>\n",
       "    <tr>\n",
       "      <td>24</td>\n",
       "      <td>5528349</td>\n",
       "      <td>1</td>\n",
       "      <td>2200</td>\n",
       "      <td>6</td>\n",
       "      <td>400008349552</td>\n",
       "      <td>2410</td>\n",
       "      <td>01-BLACK</td>\n",
       "      <td>01-BLACK</td>\n",
       "      <td>3</td>\n",
       "      <td>113645</td>\n",
       "      <td>LANCOME</td>\n",
       "      <td>CELEBRT</td>\n",
       "    </tr>\n",
       "    <tr>\n",
       "      <td>25</td>\n",
       "      <td>5528349</td>\n",
       "      <td>4</td>\n",
       "      <td>2200</td>\n",
       "      <td>6</td>\n",
       "      <td>400008349552</td>\n",
       "      <td>2410</td>\n",
       "      <td>01-BLACK</td>\n",
       "      <td>01-BLACK</td>\n",
       "      <td>3</td>\n",
       "      <td>113645</td>\n",
       "      <td>LANCOME</td>\n",
       "      <td>CELEBRT</td>\n",
       "    </tr>\n",
       "    <tr>\n",
       "      <td>26</td>\n",
       "      <td>5928099</td>\n",
       "      <td>6</td>\n",
       "      <td>2200</td>\n",
       "      <td>4</td>\n",
       "      <td>400008099592</td>\n",
       "      <td>9470</td>\n",
       "      <td>PENCIL SHARP</td>\n",
       "      <td>ACCESSORY</td>\n",
       "      <td>20</td>\n",
       "      <td>113645</td>\n",
       "      <td>LANCOME</td>\n",
       "      <td>CELEBRT</td>\n",
       "    </tr>\n",
       "    <tr>\n",
       "      <td>27</td>\n",
       "      <td>6318344</td>\n",
       "      <td>2</td>\n",
       "      <td>800</td>\n",
       "      <td>1</td>\n",
       "      <td>400008344631</td>\n",
       "      <td>6034</td>\n",
       "      <td>MILD SOAP</td>\n",
       "      <td>REFILL</td>\n",
       "      <td>6</td>\n",
       "      <td>5511283</td>\n",
       "      <td>CLINIQUE</td>\n",
       "      <td>CLINIQUE</td>\n",
       "    </tr>\n",
       "    <tr>\n",
       "      <td>28</td>\n",
       "      <td>7064350</td>\n",
       "      <td>1</td>\n",
       "      <td>800</td>\n",
       "      <td>2</td>\n",
       "      <td>400004350706</td>\n",
       "      <td>69NA01</td>\n",
       "      <td>STOP SIGNS</td>\n",
       "      <td>1.7 OUNCES</td>\n",
       "      <td>3</td>\n",
       "      <td>5511283</td>\n",
       "      <td>CLINIQUE</td>\n",
       "      <td>CLINIQUE</td>\n",
       "    </tr>\n",
       "    <tr>\n",
       "      <td>29</td>\n",
       "      <td>7261032</td>\n",
       "      <td>1</td>\n",
       "      <td>800</td>\n",
       "      <td>2</td>\n",
       "      <td>400001032726</td>\n",
       "      <td>64HM01</td>\n",
       "      <td>ANTI-GRAVITY</td>\n",
       "      <td>CREAM</td>\n",
       "      <td>3</td>\n",
       "      <td>5511283</td>\n",
       "      <td>CLINIQUE</td>\n",
       "      <td>CLINIQUE</td>\n",
       "    </tr>\n",
       "    <tr>\n",
       "      <td>30</td>\n",
       "      <td>7808101</td>\n",
       "      <td>1</td>\n",
       "      <td>800</td>\n",
       "      <td>2</td>\n",
       "      <td>400008101780</td>\n",
       "      <td>6147</td>\n",
       "      <td>RINSE OFF</td>\n",
       "      <td>CLEANSE</td>\n",
       "      <td>3</td>\n",
       "      <td>5511283</td>\n",
       "      <td>CLINIQUE</td>\n",
       "      <td>CLINIQUE</td>\n",
       "    </tr>\n",
       "    <tr>\n",
       "      <td>31</td>\n",
       "      <td>8618636</td>\n",
       "      <td>1</td>\n",
       "      <td>2200</td>\n",
       "      <td>6</td>\n",
       "      <td>400008636861</td>\n",
       "      <td>8267</td>\n",
       "      <td>01-BLACK</td>\n",
       "      <td>NO SIZE</td>\n",
       "      <td>3</td>\n",
       "      <td>113645</td>\n",
       "      <td>LANCOME</td>\n",
       "      <td>CELEBRT</td>\n",
       "    </tr>\n",
       "    <tr>\n",
       "      <td>32</td>\n",
       "      <td>8718362</td>\n",
       "      <td>6</td>\n",
       "      <td>2200</td>\n",
       "      <td>1</td>\n",
       "      <td>400008362871</td>\n",
       "      <td>1413</td>\n",
       "      <td>BI-FACIL</td>\n",
       "      <td>4.0 OZ</td>\n",
       "      <td>3</td>\n",
       "      <td>113645</td>\n",
       "      <td>LANCOME</td>\n",
       "      <td>CELEBRT</td>\n",
       "    </tr>\n",
       "    <tr>\n",
       "      <td>33</td>\n",
       "      <td>9402188</td>\n",
       "      <td>1</td>\n",
       "      <td>800</td>\n",
       "      <td>2</td>\n",
       "      <td>400002188940</td>\n",
       "      <td>64KM</td>\n",
       "      <td>ANTI GRAVITY</td>\n",
       "      <td>FIRMNG EY</td>\n",
       "      <td>3</td>\n",
       "      <td>5511283</td>\n",
       "      <td>CLINIQUE</td>\n",
       "      <td>CLINIQUE</td>\n",
       "    </tr>\n",
       "    <tr>\n",
       "      <td>34</td>\n",
       "      <td>9526376</td>\n",
       "      <td>1</td>\n",
       "      <td>800</td>\n",
       "      <td>2</td>\n",
       "      <td>400006376952</td>\n",
       "      <td>68CG</td>\n",
       "      <td>EXFOLATING</td>\n",
       "      <td>3.4 OZ</td>\n",
       "      <td>3</td>\n",
       "      <td>5511283</td>\n",
       "      <td>CLINIQUE</td>\n",
       "      <td>CLINIQUE</td>\n",
       "    </tr>\n",
       "  </tbody>\n",
       "</table>\n",
       "</div>"
      ],
      "text/plain": [
       "        SKU  TO WHERE  DEPT  CLASSID           UPC         STYLE  \\\n",
       "0    108507         2   800        7  400008507010        6CJ1     \n",
       "1    264715         1   800        2  400004715026        67GF     \n",
       "2    348498         1   800        2  400008498034        6CEG     \n",
       "3    726718         1   800        2  400006718072        60MK01   \n",
       "4    803921         1   800        2  400003921080        663E02   \n",
       "5   1206132         1  2200        6  400006132120        4406     \n",
       "6   1400555         7   800        2  400000555140        67NM     \n",
       "7   2716578         2   800        1  400006578271        6EM7     \n",
       "8   2726578         2   800        1  400006578272        6EM6     \n",
       "9   2783996         1  2200        6  400003996278        4408     \n",
       "10  3013129         1   800        2  400003129301        69NC     \n",
       "11  3524026         2   800        1  400004026352        68LE     \n",
       "12  3559555         1   800        2  400009555355        667H     \n",
       "13  3582465         1   800        2  400002465358        6A0Y     \n",
       "14  3611367         1   800        2  400001367361        62WR01   \n",
       "15  3631365         1   800        2  400001365363        62WQ     \n",
       "16  3690654         2   800        1  400000654369        68MG     \n",
       "17  3898011         2   800        1  400008011389        6101     \n",
       "18  3968011         2   800        1  400008011396        6120     \n",
       "19  3978011         2   800        1  400008011397        6121     \n",
       "20  3998011         2   800        1  400008011399        6126     \n",
       "21  4108011         2   800        1  400008011410        6142     \n",
       "22  4112626         1   800        2  400002626411        61EP     \n",
       "23  5079809         1   800        2  400009809507        622U     \n",
       "24  5528349         1  2200        6  400008349552        2410     \n",
       "25  5528349         4  2200        6  400008349552        2410     \n",
       "26  5928099         6  2200        4  400008099592        9470     \n",
       "27  6318344         2   800        1  400008344631        6034     \n",
       "28  7064350         1   800        2  400004350706        69NA01   \n",
       "29  7261032         1   800        2  400001032726        64HM01   \n",
       "30  7808101         1   800        2  400008101780        6147     \n",
       "31  8618636         1  2200        6  400008636861        8267     \n",
       "32  8718362         6  2200        1  400008362871        1413     \n",
       "33  9402188         1   800        2  400002188940        64KM     \n",
       "34  9526376         1   800        2  400006376952        68CG     \n",
       "\n",
       "           COLOR        SIZE  PACKSIZE   VENDOR      BRAND  DEPTDESC  \n",
       "0   01LGT/MED     PM INS PER         3  5511283  CLINIQUE   CLINIQUE  \n",
       "1   TOTAL TURNAR  CREAM              3  5511283  CLINIQUE   CLINIQUE  \n",
       "2   REPAIR NIGHT  1.7 CREAM          3  5511283  CLINIQUE   CLINIQUE  \n",
       "3   TAKE DAY OFF  E M/U REMO         3  5511283  CLINIQUE   CLINIQUE  \n",
       "4   RINSE OFF     FOAM CLNSR         3  5511283  CLINIQUE   CLINIQUE  \n",
       "5   01-BLACK      NO SIZE            3   113645  LANCOME    CELEBRT   \n",
       "6   REF LOTION    NO SIZE            3  5511283  CLINIQUE   CLINIQUE  \n",
       "7   DDM GEL       1.7 OZ             3  5511283  CLINIQUE   CLINIQUE  \n",
       "8   DDM GEL       4.2 OZ             6  5511283  CLINIQUE   CLINIQUE  \n",
       "9   01-BLACK      NO SIZE            3   113645  LANCOME    CELEBRT   \n",
       "10  CLEANSER      .5 FL OZ           3  5511283  CLINIQUE   CLINIQUE  \n",
       "11  DDML PUMP     4.2 OZ             6  5511283  CLINIQUE   CLINIQUE  \n",
       "12  7DAY SCRUB    RINSE OFF          3  5511283  CLINIQUE   CLINIQUE  \n",
       "13  REPAIR DAY    CREAM              3  5511283  CLINIQUE   CLINIQUE  \n",
       "14  ANTI SOAP     5.2 OZ             3  5511283  CLINIQUE   CLINIQUE  \n",
       "15  CLEANSE FOAM  4.2 OZ             3  5511283  CLINIQUE   CLINIQUE  \n",
       "16  DDML TUBE     DDML TUBE          3  5511283  CLINIQUE   CLINIQUE  \n",
       "17  MILD SOAP     W/DISH             6  5511283  CLINIQUE   CLINIQUE  \n",
       "18  CLARIFY       #2  6 OZ           3  5511283  CLINIQUE   CLINIQUE  \n",
       "19  CLARIFY       #2 13.5 OZ         3  5511283  CLINIQUE   CLINIQUE  \n",
       "20  CLARIFY       #3 12 OZ           3  5511283  CLINIQUE   CLINIQUE  \n",
       "21  DDML          DDML 4 OZ          6  5511283  CLINIQUE   CLINIQUE  \n",
       "22  AA EYES       .5 OZ              3  5511283  CLINIQUE   CLINIQUE  \n",
       "23  MOIST/LINE    MOIST/LINE         2  5511283  CLINIQUE   CLINIQUE  \n",
       "24  01-BLACK      01-BLACK           3   113645  LANCOME    CELEBRT   \n",
       "25  01-BLACK      01-BLACK           3   113645  LANCOME    CELEBRT   \n",
       "26  PENCIL SHARP  ACCESSORY         20   113645  LANCOME    CELEBRT   \n",
       "27  MILD SOAP     REFILL             6  5511283  CLINIQUE   CLINIQUE  \n",
       "28  STOP SIGNS    1.7 OUNCES         3  5511283  CLINIQUE   CLINIQUE  \n",
       "29  ANTI-GRAVITY  CREAM              3  5511283  CLINIQUE   CLINIQUE  \n",
       "30  RINSE OFF     CLEANSE            3  5511283  CLINIQUE   CLINIQUE  \n",
       "31  01-BLACK      NO SIZE            3   113645  LANCOME    CELEBRT   \n",
       "32  BI-FACIL      4.0 OZ             3   113645  LANCOME    CELEBRT   \n",
       "33  ANTI GRAVITY  FIRMNG EY          3  5511283  CLINIQUE   CLINIQUE  \n",
       "34  EXFOLATING    3.4 OZ             3  5511283  CLINIQUE   CLINIQUE  "
      ]
     },
     "execution_count": 151,
     "metadata": {},
     "output_type": "execute_result"
    }
   ],
   "source": [
    "which_SKU_to_WHERE = which_SKU_to_WHERE.merge(filtered_sku_deptinfo, how = \"left\", left_on =\"SKU\", right_on= \"SKU\")\n",
    "which_SKU_to_WHERE.to_csv(\"data/which_SKU_to_WHERE.csv\")\n",
    "which_SKU_to_WHERE.head(35)"
   ]
  },
  {
   "cell_type": "markdown",
   "metadata": {},
   "source": [
    "## <i> 4.4. Validating identified SKU movement plan with other STOREs</i>"
   ]
  },
  {
   "cell_type": "code",
   "execution_count": 152,
   "metadata": {},
   "outputs": [],
   "source": [
    "which_SKU_to_WHERE = pd.read_csv(\"data/which_SKU_to_WHERE.csv\")\n",
    "which_SKU_to_WHERE.reset_index()\n",
    "\n",
    "lister = [] \n",
    "for index, row in which_SKU_to_WHERE.iterrows():\n",
    "    lister.append(str([row[\"SKU\"], row[\"TO WHERE\"]]))"
   ]
  },
  {
   "cell_type": "code",
   "execution_count": 153,
   "metadata": {},
   "outputs": [],
   "source": [
    "filtered_trnsact1 = pd.read_csv(\"data/Dillards POS/trnsact_labelled_filtered1.csv\")\n",
    "filtered_trnsact1 = filtered_trnsact1[filtered_trnsact1[\"SKU\"].isin(filtered_trnsact[\"SKU\"].unique())]"
   ]
  },
  {
   "cell_type": "code",
   "execution_count": 154,
   "metadata": {},
   "outputs": [],
   "source": [
    "def iterating_with_other_store(store_num, in_this_subset_question_mark, filtered_trnsact1): \n",
    "    filtered_trnsact1 = filtered_trnsact1[filtered_trnsact1[\"STORE\"] == store_num]\n",
    "    SKU_bool = pd.get_dummies(filtered_trnsact1[\"SKU\"], prefix = 'SKU')\n",
    "    SKU_bool[\"trnsact_identifier\"] = list(filtered_trnsact1[\"trnsact_identifier\"])\n",
    "\n",
    "    for column in SKU_bool.columns:\n",
    "        if column != \"trnsact_identifier\":\n",
    "            SKU_bool[column] = SKU_bool[column].astype(bool)\n",
    "\n",
    "    ForApriori = SKU_bool.groupby([\"trnsact_identifier\"]).any()\n",
    "    FreqItems = apriori(ForApriori, min_support = 0.0005, use_colnames=True)\n",
    "\n",
    "    AssocRules = association_rules(FreqItems, metric =\"lift\", min_threshold = 1.5).sort_values(\"lift\", ascending = False).reset_index(drop = True)\n",
    "    AssocRules = AssocRules[AssocRules[\"confidence\"] >= 0.01]\n",
    "\n",
    "    counter = 0 \n",
    "    pos_difference = [] # saves SKUs where CLASSID or DEPT do not match and CLASSID related to thsoe SKUs. \n",
    "    for index, row in AssocRules.iterrows():\n",
    "        antecedents = list(row[\"antecedents\"]) \n",
    "        consequents = list(row[\"consequents\"])\n",
    "        total = antecedents+consequents\n",
    "        total_cleaned = [int(x.replace(\"SKU_\", \"\")) for x in total]\n",
    "        if filtered_sku_deptinfo[filtered_sku_deptinfo[\"SKU\"].isin(total_cleaned)][\"CLASSID\"].nunique() != 1 :\n",
    "            counter += 1\n",
    "            SKU_loc = [] \n",
    "            for each_sku in total_cleaned:  \n",
    "                SKU_loc.append(filtered_sku_deptinfo[filtered_sku_deptinfo[\"SKU\"] == each_sku][\"CLASSID\"].iloc[0])\n",
    "            pos_difference.append([total_cleaned, SKU_loc])\n",
    "\n",
    "    which_SKU_to_WHERE = [] \n",
    "    for pos, val in enumerate(pos_difference): \n",
    "        which_SKU_to_WHERE.append([val[0][0], val[1][1]])\n",
    "        which_SKU_to_WHERE.append([val[0][1], val[1][0]])\n",
    "\n",
    "    which_SKU_to_WHERE = pd.DataFrame(which_SKU_to_WHERE)\n",
    "    which_SKU_to_WHERE.columns = [\"SKU\", \"TO WHERE\"]\n",
    "    which_SKU_to_WHERE.head()\n",
    "\n",
    "    which_SKU_to_WHERE = pd.DataFrame(which_SKU_to_WHERE.groupby([\"SKU\", \"TO WHERE\"]).size())\n",
    "    del which_SKU_to_WHERE[0]\n",
    "    which_SKU_to_WHERE = which_SKU_to_WHERE.reset_index()\n",
    "    \n",
    "    lister = [] \n",
    "    for index, row in which_SKU_to_WHERE.iterrows():\n",
    "        lister.append(str([row[\"SKU\"], row[\"TO WHERE\"]]))\n",
    "        \n",
    "    return (100.0*sum(pd.DataFrame(lister)[0].isin(in_this_subset_question_mark))/len(in_this_subset_question_mark))"
   ]
  },
  {
   "cell_type": "code",
   "execution_count": 155,
   "metadata": {},
   "outputs": [
    {
     "name": "stdout",
     "output_type": "stream",
     "text": [
      "1\n",
      "2\n",
      "3\n",
      "4\n",
      "5\n",
      "6\n",
      "7\n",
      "8\n",
      "9\n",
      "10\n",
      "11\n",
      "12\n",
      "13\n",
      "14\n",
      "15\n",
      "16\n",
      "17\n",
      "18\n",
      "19\n",
      "20\n"
     ]
    }
   ],
   "source": [
    "random.seed(123)\n",
    "probability = []\n",
    "for trial in range(1, 21):\n",
    "    print(trial)\n",
    "    probability.append(iterating_with_other_store(fulfilling_store_list[trial], lister, filtered_trnsact1))"
   ]
  },
  {
   "cell_type": "code",
   "execution_count": 156,
   "metadata": {},
   "outputs": [
    {
     "data": {
      "image/png": "[encoded data removed]",
      "text/plain": [
       "<Figure size 720x360 with 1 Axes>"
      ]
     },
     "metadata": {
      "needs_background": "light"
     },
     "output_type": "display_data"
    }
   ],
   "source": [
    "plt.hist(probability)\n",
    "plt.title(\"How much does each STORE support my proposed SKU rearrangement plan?\")\n",
    "plt.xlabel(\"% of support\")\n",
    "plt.ylabel(\"number of STOREs\")\n",
    "plt.savefig('img/How much does each STORE support my proposed SKU rearrangement plan?.png')\n",
    "plt.show()"
   ]
  }
 ],
 "metadata": {
  "kernelspec": {
   "display_name": "Python 3",
   "language": "python",
   "name": "python3"
  },
  "language_info": {
   "codemirror_mode": {
    "name": "ipython",
    "version": 3
   },
   "file_extension": ".py",
   "mimetype": "text/x-python",
   "name": "python",
   "nbconvert_exporter": "python",
   "pygments_lexer": "ipython3",
   "version": "3.7.4"
  }
 },
 "nbformat": 4,
 "nbformat_minor": 2
}
